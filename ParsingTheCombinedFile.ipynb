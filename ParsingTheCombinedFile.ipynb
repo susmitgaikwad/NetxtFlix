{
  "nbformat": 4,
  "nbformat_minor": 0,
  "metadata": {
    "colab": {
      "name": "ParsingTheCombinedFile.ipynb",
      "version": "0.3.2",
      "provenance": [],
      "collapsed_sections": []
    },
    "kernelspec": {
      "name": "python3",
      "display_name": "Python 3"
    },
    "accelerator": "GPU"
  },
  "cells": [
    {
      "cell_type": "markdown",
      "metadata": {
        "id": "view-in-github",
        "colab_type": "text"
      },
      "source": [
        "[View in Colaboratory](https://colab.research.google.com/github/ShriPunta/Netflix-Graph-Dataset-Project/blob/master/ParsingTheCombinedFile.ipynb)"
      ]
    },
    {
      "metadata": {
        "id": "MfY3KTxwcuzj",
        "colab_type": "code",
        "colab": {}
      },
      "cell_type": "code",
      "source": [
        "!pip install -U -q PyDrive\n"
      ],
      "execution_count": 0,
      "outputs": []
    },
    {
      "metadata": {
        "id": "7QxpoHbSL7hr",
        "colab_type": "code",
        "colab": {}
      },
      "cell_type": "code",
      "source": [
        "#!pip install python-igraph"
      ],
      "execution_count": 0,
      "outputs": []
    },
    {
      "metadata": {
        "id": "F5hsv8FRc6yo",
        "colab_type": "text"
      },
      "cell_type": "markdown",
      "source": [
        "**Setup all the Authentication for PyDrive**"
      ]
    },
    {
      "metadata": {
        "id": "se2OMKeGcyTB",
        "colab_type": "code",
        "colab": {}
      },
      "cell_type": "code",
      "source": [
        "\n",
        "from pydrive.auth import GoogleAuth\n",
        "from pydrive.drive import GoogleDrive\n",
        "from google.colab import auth\n",
        "from oauth2client.client import GoogleCredentials\n",
        "import io\n",
        "from googleapiclient.http import MediaIoBaseDownload\n",
        "from googleapiclient.discovery import build\n",
        "import numpy as np\n",
        "import matplotlib\n",
        "import matplotlib.pyplot as plt\n",
        "import pandas as pd\n",
        "from google.colab import files"
      ],
      "execution_count": 0,
      "outputs": []
    },
    {
      "metadata": {
        "id": "Vm_wC5htdbEo",
        "colab_type": "code",
        "colab": {}
      },
      "cell_type": "code",
      "source": [
        "%matplotlib inline"
      ],
      "execution_count": 0,
      "outputs": []
    },
    {
      "metadata": {
        "id": "82YemEDEdRGh",
        "colab_type": "code",
        "colab": {}
      },
      "cell_type": "code",
      "source": [
        "# 1. Authenticate and create the PyDrive client.\n",
        "auth.authenticate_user()\n",
        "gauth = GoogleAuth()\n",
        "gauth.credentials = GoogleCredentials.get_application_default()\n",
        "drive = GoogleDrive(gauth)\n"
      ],
      "execution_count": 0,
      "outputs": []
    },
    {
      "metadata": {
        "id": "HoWP4dWD47m3",
        "colab_type": "text"
      },
      "cell_type": "markdown",
      "source": [
        "---"
      ]
    },
    {
      "metadata": {
        "id": "44rkbJ-TAySS",
        "colab_type": "text"
      },
      "cell_type": "markdown",
      "source": [
        "**Method to combine all the records**"
      ]
    },
    {
      "metadata": {
        "id": "WW_LCEL5-e4g",
        "colab_type": "code",
        "colab": {}
      },
      "cell_type": "code",
      "source": [
        "def merge_all_texts(file_list):\n",
        "  import shutil\n",
        "\n",
        "  with open('AllMerged.txt','wb') as wfd:\n",
        "    for f in [file_list]:\n",
        "      with open(f,'rb') as fd:\n",
        "        shutil.copyfileobj(fd, wfd, 1024*1024*10)\n",
        "        #10MB per writing chunk to avoid reading big file into memory."
      ],
      "execution_count": 0,
      "outputs": []
    },
    {
      "metadata": {
        "id": "CYp7ZjbubqF2",
        "colab_type": "text"
      },
      "cell_type": "markdown",
      "source": [
        "\n",
        "** *Method*: To read the contents of a local Google File**\n",
        "\n"
      ]
    },
    {
      "metadata": {
        "id": "E2xhw0Cjk1Cs",
        "colab_type": "code",
        "colab": {}
      },
      "cell_type": "code",
      "source": [
        "def read_drive_file_into_variable(file_id_to_read):\n",
        "  drive_service = build('drive', 'v3')\n",
        "  request = drive_service.files().get_media(fileId=file_id_to_read)\n",
        "  downloaded = io.BytesIO()\n",
        "  downloader = MediaIoBaseDownload(downloaded, request)\n",
        "  done = False\n",
        "  while done is False:\n",
        "    # _ is a placeholder for a progress object that we ignore.\n",
        "    # (Our file is small, so we skip reporting progress.)\n",
        "    status, done = downloader.next_chunk()\n",
        "    prog = int(status.progress() * 100)\n",
        "    print(\"Download \"+str(prog))\n",
        "  \n",
        "  #Set the pointer to the start\n",
        "  downloaded.seek(0)\n",
        "  #print('Downloaded file contents are: {}'.format(downloaded.read()))\n",
        "  \n",
        "  #Read Everthing into a variable called \"View\", its in a \"Bytes\" datatype\n",
        "  view = downloaded.read1(-1)\n",
        "  #len(view)\n",
        "  \n",
        "  #decode Bytes to String format\n",
        "  decoded = view.decode(encoding=\"utf-8\")\n",
        "  #type(decoded)\n",
        "  \n",
        "  #Convert this continous string to List for each new line\n",
        "  variable_to_set = decoded.splitlines()\n",
        "  #type(splitted)\n",
        "  \n",
        "  return variable_to_set\n",
        "  \n",
        "  "
      ],
      "execution_count": 0,
      "outputs": []
    },
    {
      "metadata": {
        "id": "Y_NHUDFt5qLm",
        "colab_type": "text"
      },
      "cell_type": "markdown",
      "source": [
        "---"
      ]
    },
    {
      "metadata": {
        "id": "Wde9XWULuQOo",
        "colab_type": "text"
      },
      "cell_type": "markdown",
      "source": [
        "**Read the main two files into variables**"
      ]
    },
    {
      "metadata": {
        "id": "l53Y5UuvlTA0",
        "colab_type": "code",
        "colab": {}
      },
      "cell_type": "code",
      "source": [
        "movie_Title_file_id = '0B8qgJkz0ynl8czBBNG9qZ2JPeW9RaWVuZktobUE1b29qaER3'\n",
        "part_rating_file_id = '1iABtudmoCPxcFYiYQ0cQwfcQCZtfHsHd'\n",
        "test_file_id = '11QhP0HwV7x6huJX3-JqJzGv7shMiZVPH'\n",
        "merged_file_id = '1zhm2Wo8qBun5p01z_hjZlkww1TIbkTJy'\n",
        "merge_first3_files = '1R8g2MWa1Czpzt7EAGUfcvADJ-yIB2Yi9'"
      ],
      "execution_count": 0,
      "outputs": []
    },
    {
      "metadata": {
        "id": "hauotqIq69LL",
        "colab_type": "code",
        "colab": {
          "base_uri": "https://localhost:8080/",
          "height": 34
        },
        "outputId": "2a1c3122-bbd2-4ef1-9692-1b4237fbe3f3"
      },
      "cell_type": "code",
      "source": [
        "key_file_list = read_drive_file_into_variable(movie_Title_file_id)"
      ],
      "execution_count": 47,
      "outputs": [
        {
          "output_type": "stream",
          "text": [
            "Download 100\n"
          ],
          "name": "stdout"
        }
      ]
    },
    {
      "metadata": {
        "id": "Mft79xExZKZq",
        "colab_type": "code",
        "colab": {}
      },
      "cell_type": "code",
      "source": [
        "#merged_file3_list = read_drive_file_into_variable(merge_first3_files)"
      ],
      "execution_count": 0,
      "outputs": []
    },
    {
      "metadata": {
        "id": "6NT8R1EVBLLN",
        "colab_type": "code",
        "colab": {}
      },
      "cell_type": "code",
      "source": [
        "#merged_file_list = read_drive_file_into_variable(merged_file_id)"
      ],
      "execution_count": 0,
      "outputs": []
    },
    {
      "metadata": {
        "id": "fwZbBuv66-Y6",
        "colab_type": "code",
        "colab": {
          "base_uri": "https://localhost:8080/",
          "height": 101
        },
        "outputId": "f302f4e5-f78a-40ab-bbe1-fbbde5ebbf23"
      },
      "cell_type": "code",
      "source": [
        "rating_file_list = read_drive_file_into_variable(part_rating_file_id)"
      ],
      "execution_count": 50,
      "outputs": [
        {
          "output_type": "stream",
          "text": [
            "Download 21\n",
            "Download 42\n",
            "Download 63\n",
            "Download 84\n",
            "Download 100\n"
          ],
          "name": "stdout"
        }
      ]
    },
    {
      "metadata": {
        "id": "VBfmPUyH7xn8",
        "colab_type": "code",
        "colab": {}
      },
      "cell_type": "code",
      "source": [
        "#test_file_list = read_drive_file_into_variable(test_file_id)"
      ],
      "execution_count": 0,
      "outputs": []
    },
    {
      "metadata": {
        "id": "LNwdzKOEBcNm",
        "colab_type": "code",
        "colab": {}
      },
      "cell_type": "code",
      "source": [
        "final_file_list_to_use = rating_file_list"
      ],
      "execution_count": 0,
      "outputs": []
    },
    {
      "metadata": {
        "id": "PLPYJKQ-4_ba",
        "colab_type": "text"
      },
      "cell_type": "markdown",
      "source": [
        "---"
      ]
    },
    {
      "metadata": {
        "id": "BO6_CVlAmsgT",
        "colab_type": "text"
      },
      "cell_type": "markdown",
      "source": [
        "**Convert the key file into a dataframe**"
      ]
    },
    {
      "metadata": {
        "id": "E-EXS8ZvduXq",
        "colab_type": "code",
        "colab": {
          "base_uri": "https://localhost:8080/",
          "height": 195
        },
        "outputId": "d0871799-cb67-4171-bc5e-6ef9fcde5d51"
      },
      "cell_type": "code",
      "source": [
        "#Read the key file into a Panda dataframe\n",
        "key_file_df = pd.DataFrame([sub.split(\",\") for sub in key_file_list],columns = [\"MovieId\",\"Year\",\"Name\",\"Genre1\",\"Genre2\",\"Genre3\"])\n",
        "\n",
        "key_file_df.head()"
      ],
      "execution_count": 53,
      "outputs": [
        {
          "output_type": "execute_result",
          "data": {
            "text/html": [
              "<div>\n",
              "<style scoped>\n",
              "    .dataframe tbody tr th:only-of-type {\n",
              "        vertical-align: middle;\n",
              "    }\n",
              "\n",
              "    .dataframe tbody tr th {\n",
              "        vertical-align: top;\n",
              "    }\n",
              "\n",
              "    .dataframe thead th {\n",
              "        text-align: right;\n",
              "    }\n",
              "</style>\n",
              "<table border=\"1\" class=\"dataframe\">\n",
              "  <thead>\n",
              "    <tr style=\"text-align: right;\">\n",
              "      <th></th>\n",
              "      <th>MovieId</th>\n",
              "      <th>Year</th>\n",
              "      <th>Name</th>\n",
              "      <th>Genre1</th>\n",
              "      <th>Genre2</th>\n",
              "      <th>Genre3</th>\n",
              "    </tr>\n",
              "  </thead>\n",
              "  <tbody>\n",
              "    <tr>\n",
              "      <th>0</th>\n",
              "      <td>1</td>\n",
              "      <td>2003</td>\n",
              "      <td>Dinosaur Planet</td>\n",
              "      <td>\"Animation</td>\n",
              "      <td>Documentary</td>\n",
              "      <td>Family\"</td>\n",
              "    </tr>\n",
              "    <tr>\n",
              "      <th>1</th>\n",
              "      <td>3</td>\n",
              "      <td>1997</td>\n",
              "      <td>Character</td>\n",
              "      <td>\"Crime</td>\n",
              "      <td>Drama</td>\n",
              "      <td>Mystery\"</td>\n",
              "    </tr>\n",
              "    <tr>\n",
              "      <th>2</th>\n",
              "      <td>6</td>\n",
              "      <td>1997</td>\n",
              "      <td>Sick</td>\n",
              "      <td>Drama</td>\n",
              "      <td>None</td>\n",
              "      <td>None</td>\n",
              "    </tr>\n",
              "    <tr>\n",
              "      <th>3</th>\n",
              "      <td>7</td>\n",
              "      <td>1992</td>\n",
              "      <td>8 Man</td>\n",
              "      <td>\"Action</td>\n",
              "      <td>Sci-Fi\"</td>\n",
              "      <td>None</td>\n",
              "    </tr>\n",
              "    <tr>\n",
              "      <th>4</th>\n",
              "      <td>10</td>\n",
              "      <td>2001</td>\n",
              "      <td>Fighter</td>\n",
              "      <td>Documentary</td>\n",
              "      <td>None</td>\n",
              "      <td>None</td>\n",
              "    </tr>\n",
              "  </tbody>\n",
              "</table>\n",
              "</div>"
            ],
            "text/plain": [
              "  MovieId  Year             Name       Genre1       Genre2    Genre3\n",
              "0       1  2003  Dinosaur Planet   \"Animation  Documentary   Family\"\n",
              "1       3  1997        Character       \"Crime        Drama  Mystery\"\n",
              "2       6  1997             Sick        Drama         None      None\n",
              "3       7  1992            8 Man      \"Action      Sci-Fi\"      None\n",
              "4      10  2001          Fighter  Documentary         None      None"
            ]
          },
          "metadata": {
            "tags": []
          },
          "execution_count": 53
        }
      ]
    },
    {
      "metadata": {
        "id": "o2i-iRXssIUc",
        "colab_type": "code",
        "colab": {
          "base_uri": "https://localhost:8080/",
          "height": 202
        },
        "outputId": "a4007838-cb90-479e-ebc7-cbc4190089c2"
      },
      "cell_type": "code",
      "source": [
        "key_file_df.info(memory_usage = 'deep')"
      ],
      "execution_count": 54,
      "outputs": [
        {
          "output_type": "stream",
          "text": [
            "<class 'pandas.core.frame.DataFrame'>\n",
            "RangeIndex: 11066 entries, 0 to 11065\n",
            "Data columns (total 6 columns):\n",
            "MovieId    11066 non-null object\n",
            "Year       11066 non-null object\n",
            "Name       11066 non-null object\n",
            "Genre1     11066 non-null object\n",
            "Genre2     8381 non-null object\n",
            "Genre3     4876 non-null object\n",
            "dtypes: object(6)\n",
            "memory usage: 3.8 MB\n"
          ],
          "name": "stdout"
        }
      ]
    },
    {
      "metadata": {
        "id": "K8QVL-b855fy",
        "colab_type": "text"
      },
      "cell_type": "markdown",
      "source": [
        "**Clean the dataframe**"
      ]
    },
    {
      "metadata": {
        "id": "My_tjoVRm3nJ",
        "colab_type": "code",
        "colab": {}
      },
      "cell_type": "code",
      "source": [
        "#key_file_df['Genre'] = key_file_df[['Genre1','Genre2','Genre3']].apply(lambda x: ''.join(x), axis=1)\n",
        "# key_file_df.head()\n",
        "\n",
        "def clean_the_movie_key_df(key_file_df):\n",
        "  #Convert NaN to blank\n",
        "  key_file_df = key_file_df.replace(np.nan, '', regex=True)\n",
        "    \n",
        "  #Combine the Genres into a single column\n",
        "  key_file_df['Genre'] = key_file_df['Genre1']  #+ ',' + key_file_df['Genre2'] + ','+ key_file_df['Genre3']\n",
        "  \n",
        "  \n",
        "\n",
        "  #Clean the column by removing double quotes; Also converts to string\n",
        "  key_file_df['Genre'] = key_file_df['Genre'].str.replace('\"', '')\n",
        "\n",
        "  #Drop the unnecessary columns\n",
        "  #key_file_df.drop(['Genre1','Genre2','Genre3'], axis=1, inplace=True)\n",
        "  key_file_df.drop(['Genre1'], axis=1, inplace=True)\n",
        "  \n",
        "  #Convert to numeric\n",
        "  key_file_df['MovieId'] = pd.to_numeric(key_file_df['MovieId'],errors = 'coerce')\n",
        "  \n",
        "  #Convert to numeric\n",
        "  key_file_df['Year'] = pd.to_numeric(key_file_df['Year'],errors = 'coerce')\n",
        "  \n",
        "  #Convert to String\n",
        "  key_file_df['Name'] = key_file_df['Name'].astype('str')\n",
        "  \n",
        "  \n",
        "  #Set MovieId as the Index\n",
        "  key_file_df.set_index('MovieId',inplace=True)\n",
        "  \n",
        "  #Drop any rows which NaN or NULL\n",
        "  key_file_df.dropna(axis=0, how='any',inplace=True)\n",
        "\n",
        "  return key_file_df\n"
      ],
      "execution_count": 0,
      "outputs": []
    },
    {
      "metadata": {
        "id": "dXL_tT4DhaEf",
        "colab_type": "code",
        "colab": {}
      },
      "cell_type": "code",
      "source": [
        "key_file_df = clean_the_movie_key_df(key_file_df)"
      ],
      "execution_count": 0,
      "outputs": []
    },
    {
      "metadata": {
        "id": "2fWLk6Du_0mL",
        "colab_type": "code",
        "colab": {
          "base_uri": "https://localhost:8080/",
          "height": 118
        },
        "outputId": "517941c7-f539-4beb-f2e9-9632e7780fec"
      },
      "cell_type": "code",
      "source": [
        "#Gives detailing on how many null or na there are\n",
        "key_file_df.isnull().sum()"
      ],
      "execution_count": 59,
      "outputs": [
        {
          "output_type": "execute_result",
          "data": {
            "text/plain": [
              "Year      0\n",
              "Name      0\n",
              "Genre2    0\n",
              "Genre3    0\n",
              "Genre     0\n",
              "dtype: int64"
            ]
          },
          "metadata": {
            "tags": []
          },
          "execution_count": 59
        }
      ]
    },
    {
      "metadata": {
        "id": "p4Qhf6g2kyE1",
        "colab_type": "code",
        "colab": {
          "base_uri": "https://localhost:8080/",
          "height": 185
        },
        "outputId": "47ccdd70-57a7-4f7e-aab6-5fe54f5fc9e6"
      },
      "cell_type": "code",
      "source": [
        "key_file_df.info(memory_usage='deep')"
      ],
      "execution_count": 60,
      "outputs": [
        {
          "output_type": "stream",
          "text": [
            "<class 'pandas.core.frame.DataFrame'>\n",
            "Int64Index: 11064 entries, 1 to 17770\n",
            "Data columns (total 5 columns):\n",
            "Year      11064 non-null float64\n",
            "Name      11064 non-null object\n",
            "Genre2    11064 non-null object\n",
            "Genre3    11064 non-null object\n",
            "Genre     11064 non-null object\n",
            "dtypes: float64(1), object(4)\n",
            "memory usage: 2.9 MB\n"
          ],
          "name": "stdout"
        }
      ]
    },
    {
      "metadata": {
        "id": "-Qei-rqObwld",
        "colab_type": "text"
      },
      "cell_type": "markdown",
      "source": [
        "** We store the index(which are the movie Ids) as a list; to be used as a reference later**"
      ]
    },
    {
      "metadata": {
        "id": "oN1iebJG2m4C",
        "colab_type": "code",
        "colab": {
          "base_uri": "https://localhost:8080/",
          "height": 34
        },
        "outputId": "e8a6eeff-cbda-4182-8e97-36b2117d4b04"
      },
      "cell_type": "code",
      "source": [
        "key_movie_values = key_file_df.index.values\n",
        "key_movie_values\n"
      ],
      "execution_count": 61,
      "outputs": [
        {
          "output_type": "execute_result",
          "data": {
            "text/plain": [
              "array([    1,     3,     6, ..., 17765, 17768, 17770])"
            ]
          },
          "metadata": {
            "tags": []
          },
          "execution_count": 61
        }
      ]
    },
    {
      "metadata": {
        "id": "opsRfxs151Ca",
        "colab_type": "text"
      },
      "cell_type": "markdown",
      "source": [
        "---"
      ]
    },
    {
      "metadata": {
        "id": "xIiOw39e7VF5",
        "colab_type": "text"
      },
      "cell_type": "markdown",
      "source": [
        "**Create a Map of each movie with the number of ratings it has**"
      ]
    },
    {
      "metadata": {
        "id": "7_L9iQDGyjvM",
        "colab_type": "code",
        "colab": {}
      },
      "cell_type": "code",
      "source": [
        "def fill_dict_count(list_to_iterate):\n",
        "  each_movie_votes = dict()\n",
        "  for ele in list_to_iterate:\n",
        "    if ele.find(':') != -1:\n",
        "      key_to_search = (ele.split(':'))[0]\n",
        "      \n",
        "      #Get a map of how many ratings are there per movie\n",
        "      each_movie_votes[key_to_search] = 0\n",
        "    else:\n",
        "      each_movie_votes[key_to_search] +=1\n",
        "   \n",
        "  return each_movie_votes\n",
        "      \n",
        "    "
      ],
      "execution_count": 0,
      "outputs": []
    },
    {
      "metadata": {
        "id": "qdzz8dT0cDjS",
        "colab_type": "text"
      },
      "cell_type": "markdown",
      "source": [
        "**---> PARSNG and SAMPLING <---**\n",
        "\n",
        "**SAMPLING  : It takes the 23 million ratings, and only keeps limited number of ratings per movie (This is controlled by the 'limiter' variable).**\n",
        "\n",
        "**We only want values whose genre we have, hence we weed out those movies, who are not present in the movie_Title_file**\n",
        "\n",
        "**----**\n",
        "  \n",
        "**PARSING :  It also adds a comma separated value of the movie id to the tuple. (It is split later to create a dataframe).**"
      ]
    },
    {
      "metadata": {
        "id": "AgqW-cc2TJR4",
        "colab_type": "code",
        "colab": {}
      },
      "cell_type": "code",
      "source": [
        "def do_sampling(list_to_iterate,file_rating_dict):\n",
        "  flag=True\n",
        "  percent = 0.03\n",
        "  count = 0\n",
        "  refined_list = []\n",
        "  key_to_search = 0\n",
        "  limiter = 1\n",
        "    \n",
        "  for ele in list_to_iterate:\n",
        "    \n",
        "    #If the element has a ':' then its a movie id\n",
        "    if ele.find(':') != -1:\n",
        "      count = 1\n",
        "      #we will remove the ':' from the tuple\n",
        "      #This is done as we can then successfully apply the pd.to_numeric method to drastically reduce the dataframe size\n",
        "      key_to_search = (ele.split(':'))[0]\n",
        "      \n",
        "      #We want only those movies which are present in the movie_Title_file\n",
        "      if int(key_to_search) in key_movie_values:\n",
        "        #If this movie is present, set flag as true\n",
        "        flag = True\n",
        "        \n",
        "        #Set Limiter value\n",
        "        limiter = round(file_rating_dict.get(key_to_search) * percent)\n",
        "      else:\n",
        "        flag = False\n",
        "    else:\n",
        "      #If the flag is false(i.e. movie not found) or if the count more than the limit; SKIP the record\n",
        "      if count > limiter or flag is False:\n",
        "        continue\n",
        "      #Add a comma separated value of the movieId to split and form a column later\n",
        "      refined_list.append(ele+','+ str(key_to_search))\n",
        "      count+=1\n",
        "      \n",
        "  return refined_list"
      ],
      "execution_count": 0,
      "outputs": []
    },
    {
      "metadata": {
        "id": "216xjh6Sy_wy",
        "colab_type": "code",
        "colab": {}
      },
      "cell_type": "code",
      "source": [
        "count_strength = fill_dict_count(final_file_list_to_use)"
      ],
      "execution_count": 0,
      "outputs": []
    },
    {
      "metadata": {
        "id": "YvjC0ZyaBchp",
        "colab_type": "code",
        "colab": {}
      },
      "cell_type": "code",
      "source": [
        "refined_list = do_sampling(final_file_list_to_use,count_strength)\n"
      ],
      "execution_count": 0,
      "outputs": []
    },
    {
      "metadata": {
        "id": "zx9HLeiKw_GC",
        "colab_type": "code",
        "colab": {
          "base_uri": "https://localhost:8080/",
          "height": 54
        },
        "outputId": "766d1336-3ccc-4840-92ac-acc4bd682d1b"
      },
      "cell_type": "code",
      "source": [
        "max_values = sorted(set(count_strength.values()),reverse=True)\n",
        "print(max_values)"
      ],
      "execution_count": 66,
      "outputs": [
        {
          "output_type": "stream",
          "text": [
            "[193941, 162597, 160454, 156183, 154832, 153996, 151292, 149866, 145519, 140979, 140154, 139428, 137170, 136850, 135601, 135431, 134241, 128446, 121769, 121207, 118413, 117270, 116762, 116362, 114997, 113674, 113377, 110159, 108771, 108606, 107443, 106807, 106020, 105697, 104632, 104362, 101188, 101118, 100248, 99812, 98720, 98700, 98696, 97939, 93241, 90591, 90450, 90387, 90010, 89999, 89865, 89714, 87622, 87389, 87139, 85050, 83849, 83680, 81278, 81260, 80295, 80136, 79845, 78980, 78878, 78213, 77314, 76944, 75148, 75140, 74829, 74076, 73795, 73337, 73004, 72381, 71614, 67575, 66266, 65700, 65477, 65363, 63042, 62809, 62628, 62457, 61174, 61019, 60787, 60471, 60415, 59518, 59137, 58527, 58364, 58149, 56918, 56504, 56213, 55740, 55605, 54922, 54617, 54193, 52470, 52388, 52315, 52025, 51948, 51856, 51622, 50353, 50202, 50196, 49969, 48877, 48617, 48496, 48190, 48004, 47811, 47651, 47167, 46978, 46150, 45636, 45620, 45069, 44295, 44001, 43518, 43421, 43122, 42933, 42843, 42727, 42540, 42223, 42113, 42046, 41703, 41437, 41355, 41028, 40841, 40767, 40744, 40201, 40191, 40153, 40024, 39875, 39858, 39752, 39722, 39037, 38680, 38659, 38514, 38378, 38362, 38056, 37310, 37066, 36741, 36515, 36431, 36263, 36030, 35849, 35686, 35537, 35509, 35457, 35127, 35095, 35026, 34941, 34898, 33797, 33723, 33708, 33354, 33175, 32866, 32832, 32828, 32769, 32097, 32027, 31933, 31691, 31537, 31413, 31408, 31372, 31058, 30958, 30593, 30580, 30335, 30245, 30127, 30113, 30059, 29943, 29909, 29762, 29753, 29537, 29488, 29225, 28955, 28954, 28857, 28801, 28557, 28454, 28346, 28079, 28076, 27667, 27601, 27449, 27445, 27357, 27140, 27127, 27038, 26961, 26926, 26831, 26718, 26444, 26407, 26224, 26154, 25961, 25712, 25581, 25292, 25100, 24880, 24852, 24835, 24605, 24446, 24407, 24387, 24275, 24127, 24125, 24089, 23884, 23691, 23602, 23329, 23174, 22914, 22851, 22848, 22819, 22793, 22498, 22447, 22415, 22332, 22198, 22194, 22098, 21926, 21635, 21467, 21367, 21359, 21284, 21273, 21257, 21218, 21143, 21001, 20845, 20835, 20807, 20801, 20762, 20758, 20689, 20680, 20649, 20629, 20596, 20487, 20460, 20281, 20251, 20208, 20181, 20095, 20049, 20036, 20010, 19960, 19948, 19885, 19867, 19799, 19754, 19620, 19579, 19563, 19536, 19401, 19363, 19351, 19274, 19240, 19237, 19236, 19085, 19061, 19018, 18724, 18569, 18542, 18464, 18446, 18445, 18410, 18298, 18258, 18182, 18126, 17959, 17785, 17779, 17696, 17691, 17673, 17467, 17452, 17432, 17405, 17401, 17111, 17013, 16890, 16856, 16814, 16771, 16723, 16694, 16683, 16635, 16470, 16293, 16199, 16093, 16038, 15992, 15966, 15915, 15835, 15828, 15786, 15769, 15702, 15469, 15432, 15403, 15392, 15360, 15234, 15179, 15174, 15119, 15028, 14910, 14822, 14763, 14759, 14675, 14669, 14626, 14500, 14401, 14384, 14252, 14240, 14207, 14157, 14149, 14137, 14120, 14038, 14008, 13874, 13788, 13749, 13745, 13719, 13683, 13598, 13430, 13359, 13352, 13289, 13253, 13205, 13046, 13013, 13000, 12989, 12950, 12926, 12907, 12882, 12820, 12739, 12683, 12667, 12502, 12437, 12425, 12424, 12356, 12286, 12264, 12261, 12210, 12148, 12113, 11994, 11955, 11917, 11893, 11858, 11853, 11848, 11847, 11829, 11816, 11810, 11634, 11620, 11548, 11534, 11508, 11478, 11409, 11401, 11385, 11346, 11341, 11297, 11262, 11256, 11218, 11177, 11076, 11039, 11038, 11005, 10988, 10969, 10942, 10894, 10880, 10846, 10834, 10825, 10803, 10772, 10722, 10606, 10605, 10603, 10585, 10501, 10487, 10470, 10422, 10297, 10287, 10258, 10226, 10157, 10082, 10043, 10027, 9995, 9827, 9826, 9748, 9746, 9725, 9691, 9661, 9650, 9610, 9560, 9548, 9521, 9519, 9494, 9466, 9435, 9432, 9427, 9407, 9372, 9368, 9353, 9330, 9312, 9279, 9269, 9266, 9235, 9162, 9151, 9124, 9103, 9092, 9068, 9063, 9045, 8980, 8978, 8975, 8963, 8931, 8895, 8868, 8855, 8850, 8817, 8797, 8791, 8789, 8694, 8685, 8669, 8662, 8611, 8592, 8588, 8582, 8552, 8541, 8501, 8497, 8426, 8408, 8378, 8371, 8358, 8299, 8265, 8252, 8239, 8185, 8182, 8179, 8170, 8135, 8104, 8099, 8092, 8091, 8089, 8070, 8042, 8027, 8012, 8008, 7982, 7965, 7925, 7917, 7901, 7871, 7863, 7840, 7788, 7774, 7771, 7739, 7720, 7688, 7686, 7676, 7674, 7656, 7643, 7637, 7633, 7618, 7574, 7567, 7557, 7541, 7534, 7532, 7526, 7497, 7460, 7456, 7401, 7395, 7333, 7312, 7303, 7299, 7297, 7289, 7271, 7267, 7249, 7239, 7224, 7194, 7172, 7132, 7121, 7108, 7102, 7094, 7074, 7070, 7036, 7013, 7000, 6993, 6989, 6918, 6909, 6894, 6890, 6874, 6819, 6715, 6712, 6697, 6695, 6677, 6674, 6660, 6642, 6633, 6599, 6584, 6581, 6567, 6558, 6514, 6513, 6442, 6434, 6398, 6385, 6381, 6376, 6364, 6351, 6312, 6282, 6258, 6247, 6210, 6204, 6191, 6190, 6161, 6150, 6149, 6144, 6136, 6130, 6124, 6110, 6084, 6072, 6057, 6048, 6013, 6007, 6003, 5996, 5981, 5955, 5945, 5922, 5915, 5909, 5891, 5890, 5872, 5861, 5857, 5829, 5817, 5797, 5788, 5787, 5782, 5781, 5756, 5755, 5749, 5708, 5700, 5695, 5657, 5656, 5655, 5652, 5629, 5621, 5619, 5589, 5569, 5561, 5545, 5518, 5498, 5439, 5435, 5414, 5403, 5377, 5375, 5362, 5349, 5317, 5310, 5301, 5275, 5266, 5242, 5228, 5210, 5204, 5202, 5197, 5184, 5163, 5161, 5157, 5155, 5147, 5143, 5134, 5133, 5132, 5129, 5118, 5106, 5100, 5098, 5096, 5055, 5050, 5025, 5019, 5013, 4993, 4977, 4976, 4947, 4945, 4934, 4932, 4928, 4912, 4900, 4893, 4852, 4850, 4847, 4845, 4844, 4829, 4826, 4814, 4812, 4785, 4769, 4766, 4764, 4749, 4729, 4724, 4710, 4702, 4684, 4679, 4660, 4649, 4648, 4639, 4628, 4622, 4588, 4586, 4585, 4584, 4580, 4545, 4543, 4536, 4532, 4524, 4500, 4495, 4471, 4468, 4453, 4446, 4434, 4432, 4420, 4412, 4411, 4393, 4378, 4373, 4372, 4350, 4348, 4317, 4312, 4288, 4261, 4258, 4253, 4242, 4241, 4240, 4231, 4219, 4218, 4217, 4216, 4215, 4214, 4196, 4191, 4180, 4179, 4175, 4165, 4155, 4142, 4139, 4136, 4115, 4110, 4102, 4087, 4086, 4083, 4069, 4051, 4035, 4018, 3982, 3976, 3975, 3974, 3972, 3958, 3957, 3952, 3944, 3936, 3922, 3919, 3904, 3900, 3893, 3888, 3887, 3882, 3881, 3868, 3867, 3865, 3861, 3859, 3851, 3820, 3812, 3800, 3793, 3783, 3782, 3781, 3761, 3734, 3725, 3719, 3713, 3712, 3704, 3693, 3660, 3655, 3654, 3645, 3638, 3637, 3622, 3607, 3598, 3591, 3569, 3566, 3565, 3562, 3558, 3556, 3539, 3535, 3526, 3511, 3500, 3496, 3494, 3493, 3486, 3485, 3482, 3481, 3477, 3474, 3467, 3461, 3457, 3449, 3448, 3441, 3439, 3432, 3430, 3429, 3427, 3398, 3397, 3389, 3382, 3370, 3352, 3351, 3337, 3332, 3305, 3293, 3290, 3287, 3280, 3260, 3255, 3254, 3251, 3247, 3246, 3240, 3238, 3234, 3217, 3203, 3187, 3180, 3178, 3173, 3160, 3144, 3137, 3130, 3126, 3117, 3116, 3104, 3093, 3092, 3088, 3082, 3061, 3060, 3055, 3047, 3037, 3035, 3033, 3024, 3021, 3015, 3014, 3012, 3008, 3007, 3004, 3000, 2999, 2997, 2989, 2988, 2986, 2983, 2976, 2974, 2965, 2961, 2958, 2955, 2954, 2948, 2947, 2941, 2935, 2931, 2929, 2923, 2919, 2914, 2913, 2910, 2901, 2900, 2895, 2893, 2892, 2886, 2876, 2873, 2866, 2861, 2860, 2854, 2846, 2839, 2838, 2834, 2833, 2823, 2821, 2816, 2808, 2806, 2800, 2774, 2752, 2744, 2741, 2735, 2725, 2724, 2722, 2717, 2714, 2710, 2708, 2705, 2699, 2697, 2686, 2681, 2666, 2659, 2658, 2626, 2624, 2619, 2617, 2614, 2604, 2603, 2588, 2587, 2582, 2570, 2565, 2564, 2563, 2557, 2555, 2551, 2549, 2545, 2543, 2540, 2536, 2534, 2520, 2517, 2509, 2505, 2498, 2494, 2493, 2489, 2476, 2475, 2472, 2471, 2467, 2452, 2450, 2446, 2445, 2440, 2439, 2438, 2436, 2432, 2430, 2426, 2424, 2419, 2418, 2414, 2413, 2410, 2406, 2396, 2388, 2385, 2380, 2378, 2375, 2373, 2370, 2369, 2368, 2365, 2364, 2358, 2356, 2350, 2347, 2343, 2341, 2339, 2336, 2335, 2328, 2327, 2320, 2318, 2315, 2312, 2309, 2297, 2293, 2287, 2286, 2284, 2279, 2276, 2270, 2269, 2268, 2266, 2264, 2262, 2260, 2258, 2255, 2250, 2249, 2241, 2236, 2231, 2230, 2226, 2216, 2214, 2213, 2210, 2203, 2200, 2196, 2195, 2193, 2190, 2189, 2176, 2166, 2159, 2158, 2155, 2151, 2148, 2146, 2137, 2135, 2131, 2130, 2124, 2122, 2119, 2112, 2100, 2095, 2094, 2093, 2090, 2085, 2083, 2079, 2076, 2071, 2069, 2065, 2064, 2063, 2061, 2058, 2053, 2051, 2047, 2045, 2041, 2039, 2036, 2033, 2032, 2028, 2027, 2026, 2022, 2021, 2013, 2012, 2008, 2004, 2000, 1999, 1994, 1992, 1987, 1984, 1983, 1981, 1974, 1965, 1956, 1953, 1952, 1951, 1948, 1947, 1938, 1937, 1932, 1931, 1930, 1925, 1914, 1913, 1907, 1897, 1891, 1883, 1873, 1870, 1869, 1868, 1866, 1864, 1862, 1856, 1854, 1853, 1846, 1839, 1836, 1833, 1830, 1826, 1822, 1817, 1812, 1809, 1801, 1799, 1798, 1796, 1795, 1790, 1788, 1787, 1782, 1781, 1777, 1776, 1772, 1770, 1769, 1764, 1763, 1762, 1757, 1754, 1753, 1749, 1747, 1745, 1740, 1738, 1737, 1734, 1733, 1729, 1724, 1723, 1721, 1718, 1717, 1715, 1714, 1713, 1710, 1707, 1706, 1705, 1703, 1701, 1691, 1679, 1676, 1672, 1671, 1667, 1666, 1661, 1658, 1657, 1651, 1645, 1644, 1643, 1639, 1638, 1635, 1625, 1622, 1621, 1619, 1617, 1610, 1608, 1607, 1606, 1587, 1579, 1577, 1571, 1563, 1561, 1558, 1554, 1553, 1546, 1545, 1544, 1543, 1540, 1538, 1532, 1527, 1526, 1522, 1521, 1518, 1515, 1512, 1507, 1505, 1502, 1499, 1497, 1496, 1495, 1494, 1487, 1483, 1481, 1476, 1475, 1469, 1468, 1465, 1460, 1455, 1450, 1445, 1443, 1442, 1440, 1439, 1438, 1437, 1434, 1433, 1430, 1429, 1428, 1427, 1420, 1411, 1410, 1409, 1407, 1406, 1404, 1403, 1402, 1396, 1395, 1393, 1388, 1386, 1385, 1381, 1376, 1371, 1370, 1366, 1364, 1363, 1358, 1357, 1356, 1353, 1351, 1349, 1348, 1347, 1345, 1343, 1342, 1341, 1340, 1334, 1333, 1332, 1330, 1326, 1319, 1317, 1316, 1315, 1311, 1309, 1308, 1307, 1306, 1303, 1301, 1300, 1299, 1298, 1297, 1294, 1291, 1288, 1286, 1285, 1283, 1282, 1278, 1276, 1275, 1272, 1271, 1269, 1267, 1265, 1263, 1262, 1260, 1257, 1255, 1251, 1249, 1244, 1243, 1242, 1240, 1237, 1236, 1233, 1232, 1231, 1230, 1228, 1227, 1226, 1223, 1219, 1217, 1216, 1214, 1210, 1209, 1207, 1206, 1204, 1203, 1201, 1200, 1199, 1198, 1192, 1187, 1185, 1184, 1177, 1174, 1172, 1169, 1168, 1162, 1161, 1159, 1158, 1156, 1151, 1150, 1148, 1146, 1144, 1140, 1135, 1132, 1129, 1127, 1126, 1125, 1123, 1122, 1121, 1118, 1114, 1113, 1112, 1111, 1105, 1104, 1103, 1099, 1096, 1094, 1093, 1091, 1089, 1088, 1086, 1083, 1082, 1078, 1075, 1074, 1073, 1072, 1065, 1064, 1063, 1061, 1060, 1057, 1055, 1054, 1053, 1050, 1045, 1044, 1042, 1041, 1040, 1032, 1027, 1026, 1025, 1022, 1021, 1019, 1018, 1016, 1015, 1014, 1012, 1011, 1009, 1008, 1007, 1006, 1005, 1003, 1000, 997, 996, 994, 992, 990, 987, 982, 981, 980, 978, 975, 974, 970, 969, 962, 960, 957, 955, 954, 952, 945, 941, 940, 939, 938, 937, 936, 935, 934, 930, 929, 925, 924, 923, 920, 917, 915, 913, 912, 908, 907, 905, 903, 902, 900, 899, 898, 894, 893, 892, 891, 890, 889, 886, 885, 884, 883, 881, 880, 879, 878, 876, 875, 873, 872, 871, 870, 869, 868, 867, 866, 864, 863, 862, 861, 859, 858, 857, 856, 855, 852, 849, 848, 847, 844, 843, 841, 840, 839, 838, 836, 834, 833, 830, 829, 826, 825, 821, 820, 817, 816, 815, 814, 813, 811, 810, 809, 808, 806, 805, 804, 802, 801, 798, 797, 796, 795, 792, 791, 786, 785, 784, 783, 782, 781, 780, 778, 776, 774, 773, 771, 770, 769, 768, 767, 766, 765, 764, 763, 762, 761, 760, 757, 756, 755, 754, 753, 752, 751, 750, 748, 747, 744, 743, 741, 740, 737, 736, 735, 732, 731, 730, 729, 728, 727, 726, 725, 724, 723, 722, 721, 720, 719, 718, 717, 716, 714, 713, 712, 711, 709, 708, 705, 704, 703, 702, 700, 696, 694, 693, 692, 691, 690, 689, 688, 687, 686, 684, 682, 681, 680, 678, 677, 676, 675, 674, 673, 672, 671, 670, 669, 668, 667, 666, 665, 664, 663, 662, 659, 658, 657, 655, 654, 653, 652, 651, 650, 649, 648, 647, 646, 644, 643, 642, 641, 639, 638, 637, 636, 635, 634, 631, 630, 629, 626, 625, 624, 623, 622, 620, 619, 618, 617, 615, 614, 613, 612, 611, 609, 607, 606, 605, 604, 603, 602, 601, 600, 599, 598, 596, 595, 594, 593, 592, 591, 590, 589, 588, 587, 586, 585, 584, 583, 582, 581, 580, 579, 577, 576, 575, 574, 573, 572, 571, 570, 569, 567, 566, 565, 564, 563, 560, 559, 558, 557, 556, 555, 553, 552, 551, 550, 548, 547, 546, 545, 544, 543, 542, 541, 539, 538, 537, 536, 534, 533, 532, 531, 530, 529, 528, 527, 526, 525, 524, 523, 521, 520, 519, 516, 515, 514, 513, 512, 509, 508, 507, 506, 505, 504, 503, 502, 501, 500, 499, 498, 497, 496, 495, 494, 492, 491, 490, 489, 488, 487, 485, 484, 483, 481, 479, 478, 477, 476, 475, 474, 473, 472, 471, 470, 469, 467, 465, 464, 462, 461, 460, 459, 458, 457, 456, 455, 453, 452, 450, 449, 448, 447, 446, 445, 444, 443, 442, 441, 440, 439, 438, 437, 436, 435, 433, 432, 431, 430, 429, 428, 427, 426, 425, 424, 423, 422, 421, 420, 419, 418, 417, 416, 415, 414, 413, 411, 409, 408, 407, 406, 405, 404, 403, 402, 401, 400, 399, 398, 397, 396, 394, 393, 392, 391, 390, 389, 388, 387, 386, 385, 384, 383, 382, 381, 380, 379, 378, 377, 376, 375, 374, 373, 372, 371, 370, 369, 368, 367, 366, 365, 364, 363, 362, 361, 360, 359, 358, 357, 356, 355, 354, 353, 352, 351, 350, 349, 348, 347, 346, 345, 344, 343, 342, 341, 340, 339, 338, 336, 335, 333, 332, 331, 330, 329, 328, 327, 326, 325, 324, 323, 322, 321, 320, 319, 318, 317, 316, 315, 314, 313, 312, 311, 310, 309, 308, 307, 306, 305, 304, 303, 302, 301, 300, 299, 298, 297, 296, 295, 294, 293, 292, 291, 290, 289, 288, 287, 286, 285, 284, 283, 282, 281, 280, 279, 278, 277, 276, 275, 274, 273, 272, 271, 270, 269, 268, 267, 266, 265, 264, 263, 262, 260, 258, 257, 256, 255, 254, 253, 252, 251, 250, 249, 248, 247, 246, 245, 244, 243, 242, 241, 240, 239, 238, 237, 236, 235, 234, 233, 232, 231, 230, 229, 228, 227, 226, 225, 224, 223, 222, 221, 220, 219, 218, 217, 216, 215, 214, 213, 212, 211, 210, 209, 208, 207, 206, 205, 204, 203, 202, 201, 200, 199, 198, 197, 196, 195, 194, 193, 192, 191, 190, 189, 188, 187, 186, 185, 184, 183, 182, 181, 180, 179, 178, 177, 176, 175, 174, 173, 172, 171, 170, 169, 168, 167, 166, 165, 164, 163, 162, 161, 160, 159, 158, 157, 156, 155, 154, 153, 152, 151, 150, 149, 148, 147, 146, 145, 144, 143, 142, 141, 140, 139, 138, 137, 136, 135, 134, 133, 132, 131, 130, 129, 128, 127, 126, 125, 124, 123, 122, 121, 120, 119, 118, 117, 116, 115, 114, 113, 112, 111, 110, 109, 108, 107, 106, 105, 104, 103, 102, 101, 100, 99, 98, 97, 96, 95, 94, 93, 92, 91, 90, 89, 88, 87, 86, 85, 84, 83, 82, 81, 80, 79, 78, 77, 76, 75, 74, 73, 72, 71, 70, 69, 68, 66, 65, 64, 63, 62, 60, 59, 58, 57, 55, 54, 52, 47, 46, 45, 44, 43, 42, 39, 36]\n"
          ],
          "name": "stdout"
        }
      ]
    },
    {
      "metadata": {
        "id": "VomO7IUG2Zvd",
        "colab_type": "code",
        "colab": {
          "base_uri": "https://localhost:8080/",
          "height": 34
        },
        "outputId": "c1b6fbad-082c-438b-adc6-31942c246cf0"
      },
      "cell_type": "code",
      "source": [
        "print(len(count_strength.keys()))"
      ],
      "execution_count": 67,
      "outputs": [
        {
          "output_type": "stream",
          "text": [
            "4499\n"
          ],
          "name": "stdout"
        }
      ]
    },
    {
      "metadata": {
        "id": "zGaNXLEOfypn",
        "colab_type": "text"
      },
      "cell_type": "markdown",
      "source": [
        "---\n",
        "**Get a judgement of the size of the earlier list and size after sampling**\n"
      ]
    },
    {
      "metadata": {
        "id": "dw-TQ_k0FLax",
        "colab_type": "code",
        "colab": {
          "base_uri": "https://localhost:8080/",
          "height": 51
        },
        "outputId": "2568e658-60f4-42ca-b1aa-2da95c5bfa3b"
      },
      "cell_type": "code",
      "source": [
        "from sys import getsizeof\n",
        "#print(\"Total number of elements -->\",len(rating_file_list),\"  Size they occupy in bytes -->\",getsizeof(rating_file_list))\n",
        "\n",
        "print(\"Total number of Elements in rating_file_list list -->\",len(final_file_list_to_use),\"  Size they occupy in bytes -->\",getsizeof(final_file_list_to_use))\n",
        "print(\"Total number of Elements in refined_list list -->\",len(refined_list),\"  Size they occupy in bytes -->\",getsizeof(refined_list))"
      ],
      "execution_count": 68,
      "outputs": [
        {
          "output_type": "stream",
          "text": [
            "Total number of Elements in rating_file_list list --> 24058263   Size they occupy in bytes --> 209183992\n",
            "Total number of Elements in refined_list list --> 585311   Size they occupy in bytes --> 4826312\n"
          ],
          "name": "stdout"
        }
      ]
    },
    {
      "metadata": {
        "id": "Rtt_MMsvBdtq",
        "colab_type": "text"
      },
      "cell_type": "markdown",
      "source": [
        "---"
      ]
    },
    {
      "metadata": {
        "id": "iwy5JBQSyn5k",
        "colab_type": "text"
      },
      "cell_type": "markdown",
      "source": [
        "**Convert rating File into dataframe**"
      ]
    },
    {
      "metadata": {
        "id": "d2WdF9TVy4XB",
        "colab_type": "code",
        "colab": {}
      },
      "cell_type": "code",
      "source": [
        "#Read the key file into a Panda dataframe\n",
        "test_file_df = pd.DataFrame([sub.split(\",\") for sub in refined_list],columns = [\"UserId\",\"Rating\",\"YearWatched\",\"MovieId\"])\n",
        "\n",
        "#Initialize a blank column called MovieId ; to be filled latter\n",
        "test_file_df[['MovieId']] = test_file_df[['MovieId']].apply(pd.to_numeric)\n",
        "\n",
        "#Need memory optimization, convert the object type to numeric\n",
        "test_file_df[['UserId']] = test_file_df[['UserId']].apply(pd.to_numeric)\n",
        "\n",
        "#Need memory optimization, convert the object type to numeric\n",
        "test_file_df[['Rating']] = test_file_df[['Rating']].apply(pd.to_numeric)\n",
        "\n",
        "#Convert the column to datetime and keep only the year\n",
        "test_file_df['YearWatched'] = pd.to_datetime(test_file_df['YearWatched']).dt.year\n",
        "\n",
        "#Need memory optimization, convert the object type to numeric\n",
        "test_file_df['UserId'] = pd.to_numeric(test_file_df['UserId'],errors='ignore')\n",
        "\n",
        "#Copy the Genre Column from key file pandas dataframe\n",
        "test_file_df['Genre'] = test_file_df['MovieId'].map(key_file_df['Genre'])\n",
        "\n",
        "#Copy the Year Released Column from key file pandas dataframe\n",
        "test_file_df['YearReleased'] = test_file_df['MovieId'].map(key_file_df['Year'])\n",
        "\n",
        "#Copy the Name Column from key file pandas dataframe\n",
        "test_file_df['Name'] = test_file_df['MovieId'].map(key_file_df['Name'])\n"
      ],
      "execution_count": 0,
      "outputs": []
    },
    {
      "metadata": {
        "id": "y_Zk5MTQz6jo",
        "colab_type": "code",
        "colab": {
          "base_uri": "https://localhost:8080/",
          "height": 219
        },
        "outputId": "4e5ec4e5-ce8f-4e7c-8da0-3fc3bb7ea293"
      },
      "cell_type": "code",
      "source": [
        "#Applying these changes in datatypes brought memory usage from 5.4 GB to 2 GB\n",
        "test_file_df.info(memory_usage = 'deep')"
      ],
      "execution_count": 70,
      "outputs": [
        {
          "output_type": "stream",
          "text": [
            "<class 'pandas.core.frame.DataFrame'>\n",
            "RangeIndex: 585311 entries, 0 to 585310\n",
            "Data columns (total 7 columns):\n",
            "UserId          585311 non-null int64\n",
            "Rating          585311 non-null int64\n",
            "YearWatched     585311 non-null int64\n",
            "MovieId         585311 non-null int64\n",
            "Genre           585311 non-null object\n",
            "YearReleased    585311 non-null float64\n",
            "Name            585311 non-null object\n",
            "dtypes: float64(1), int64(4), object(2)\n",
            "memory usage: 98.1 MB\n"
          ],
          "name": "stdout"
        }
      ]
    },
    {
      "metadata": {
        "id": "kTODJAuXBBi0",
        "colab_type": "code",
        "colab": {
          "base_uri": "https://localhost:8080/",
          "height": 195
        },
        "outputId": "1509dc96-50ab-47fc-e56e-21428c8a4755"
      },
      "cell_type": "code",
      "source": [
        "test_file_df.head()"
      ],
      "execution_count": 71,
      "outputs": [
        {
          "output_type": "execute_result",
          "data": {
            "text/html": [
              "<div>\n",
              "<style scoped>\n",
              "    .dataframe tbody tr th:only-of-type {\n",
              "        vertical-align: middle;\n",
              "    }\n",
              "\n",
              "    .dataframe tbody tr th {\n",
              "        vertical-align: top;\n",
              "    }\n",
              "\n",
              "    .dataframe thead th {\n",
              "        text-align: right;\n",
              "    }\n",
              "</style>\n",
              "<table border=\"1\" class=\"dataframe\">\n",
              "  <thead>\n",
              "    <tr style=\"text-align: right;\">\n",
              "      <th></th>\n",
              "      <th>UserId</th>\n",
              "      <th>Rating</th>\n",
              "      <th>YearWatched</th>\n",
              "      <th>MovieId</th>\n",
              "      <th>Genre</th>\n",
              "      <th>YearReleased</th>\n",
              "      <th>Name</th>\n",
              "    </tr>\n",
              "  </thead>\n",
              "  <tbody>\n",
              "    <tr>\n",
              "      <th>0</th>\n",
              "      <td>1488844</td>\n",
              "      <td>3</td>\n",
              "      <td>2005</td>\n",
              "      <td>1</td>\n",
              "      <td>Animation</td>\n",
              "      <td>2003.0</td>\n",
              "      <td>Dinosaur Planet</td>\n",
              "    </tr>\n",
              "    <tr>\n",
              "      <th>1</th>\n",
              "      <td>822109</td>\n",
              "      <td>5</td>\n",
              "      <td>2005</td>\n",
              "      <td>1</td>\n",
              "      <td>Animation</td>\n",
              "      <td>2003.0</td>\n",
              "      <td>Dinosaur Planet</td>\n",
              "    </tr>\n",
              "    <tr>\n",
              "      <th>2</th>\n",
              "      <td>885013</td>\n",
              "      <td>4</td>\n",
              "      <td>2005</td>\n",
              "      <td>1</td>\n",
              "      <td>Animation</td>\n",
              "      <td>2003.0</td>\n",
              "      <td>Dinosaur Planet</td>\n",
              "    </tr>\n",
              "    <tr>\n",
              "      <th>3</th>\n",
              "      <td>30878</td>\n",
              "      <td>4</td>\n",
              "      <td>2005</td>\n",
              "      <td>1</td>\n",
              "      <td>Animation</td>\n",
              "      <td>2003.0</td>\n",
              "      <td>Dinosaur Planet</td>\n",
              "    </tr>\n",
              "    <tr>\n",
              "      <th>4</th>\n",
              "      <td>823519</td>\n",
              "      <td>3</td>\n",
              "      <td>2004</td>\n",
              "      <td>1</td>\n",
              "      <td>Animation</td>\n",
              "      <td>2003.0</td>\n",
              "      <td>Dinosaur Planet</td>\n",
              "    </tr>\n",
              "  </tbody>\n",
              "</table>\n",
              "</div>"
            ],
            "text/plain": [
              "    UserId  Rating  YearWatched  MovieId      Genre  YearReleased  \\\n",
              "0  1488844       3         2005        1  Animation        2003.0   \n",
              "1   822109       5         2005        1  Animation        2003.0   \n",
              "2   885013       4         2005        1  Animation        2003.0   \n",
              "3    30878       4         2005        1  Animation        2003.0   \n",
              "4   823519       3         2004        1  Animation        2003.0   \n",
              "\n",
              "              Name  \n",
              "0  Dinosaur Planet  \n",
              "1  Dinosaur Planet  \n",
              "2  Dinosaur Planet  \n",
              "3  Dinosaur Planet  \n",
              "4  Dinosaur Planet  "
            ]
          },
          "metadata": {
            "tags": []
          },
          "execution_count": 71
        }
      ]
    },
    {
      "metadata": {
        "id": "C-fqEv2XWxqG",
        "colab_type": "code",
        "colab": {
          "base_uri": "https://localhost:8080/",
          "height": 151
        },
        "outputId": "8c31940c-fbeb-4187-f740-8852f7b28aed"
      },
      "cell_type": "code",
      "source": [
        "#Create a matrix which is the same size of test_file_df matrix, but instead has True/False about which if the value is NaN\n",
        "the_NaN_matrix = test_file_df.isnull().sum()\n",
        "the_NaN_matrix"
      ],
      "execution_count": 72,
      "outputs": [
        {
          "output_type": "execute_result",
          "data": {
            "text/plain": [
              "UserId          0\n",
              "Rating          0\n",
              "YearWatched     0\n",
              "MovieId         0\n",
              "Genre           0\n",
              "YearReleased    0\n",
              "Name            0\n",
              "dtype: int64"
            ]
          },
          "metadata": {
            "tags": []
          },
          "execution_count": 72
        }
      ]
    },
    {
      "metadata": {
        "id": "nFRNnNfgigLL",
        "colab_type": "code",
        "colab": {
          "base_uri": "https://localhost:8080/",
          "height": 195
        },
        "outputId": "f2bb3c92-6e3b-482f-c452-b53dd3ea8178"
      },
      "cell_type": "code",
      "source": [
        "test_file_df['Length'] = test_file_df['Genre'].str.len()\n",
        "test_file_df['Genre'] = test_file_df['Genre'].str.replace(',,', '')\n",
        "test_file_df.sort_values(by='Length').head()\n"
      ],
      "execution_count": 73,
      "outputs": [
        {
          "output_type": "execute_result",
          "data": {
            "text/html": [
              "<div>\n",
              "<style scoped>\n",
              "    .dataframe tbody tr th:only-of-type {\n",
              "        vertical-align: middle;\n",
              "    }\n",
              "\n",
              "    .dataframe tbody tr th {\n",
              "        vertical-align: top;\n",
              "    }\n",
              "\n",
              "    .dataframe thead th {\n",
              "        text-align: right;\n",
              "    }\n",
              "</style>\n",
              "<table border=\"1\" class=\"dataframe\">\n",
              "  <thead>\n",
              "    <tr style=\"text-align: right;\">\n",
              "      <th></th>\n",
              "      <th>UserId</th>\n",
              "      <th>Rating</th>\n",
              "      <th>YearWatched</th>\n",
              "      <th>MovieId</th>\n",
              "      <th>Genre</th>\n",
              "      <th>YearReleased</th>\n",
              "      <th>Name</th>\n",
              "      <th>Length</th>\n",
              "    </tr>\n",
              "  </thead>\n",
              "  <tbody>\n",
              "    <tr>\n",
              "      <th>473622</th>\n",
              "      <td>41412</td>\n",
              "      <td>2</td>\n",
              "      <td>2001</td>\n",
              "      <td>3715</td>\n",
              "      <td>War</td>\n",
              "      <td>1985.0</td>\n",
              "      <td>Commando</td>\n",
              "      <td>3</td>\n",
              "    </tr>\n",
              "    <tr>\n",
              "      <th>473833</th>\n",
              "      <td>264160</td>\n",
              "      <td>3</td>\n",
              "      <td>2005</td>\n",
              "      <td>3715</td>\n",
              "      <td>War</td>\n",
              "      <td>1985.0</td>\n",
              "      <td>Commando</td>\n",
              "      <td>3</td>\n",
              "    </tr>\n",
              "    <tr>\n",
              "      <th>473832</th>\n",
              "      <td>1324577</td>\n",
              "      <td>2</td>\n",
              "      <td>2005</td>\n",
              "      <td>3715</td>\n",
              "      <td>War</td>\n",
              "      <td>1985.0</td>\n",
              "      <td>Commando</td>\n",
              "      <td>3</td>\n",
              "    </tr>\n",
              "    <tr>\n",
              "      <th>473831</th>\n",
              "      <td>1569850</td>\n",
              "      <td>3</td>\n",
              "      <td>2005</td>\n",
              "      <td>3715</td>\n",
              "      <td>War</td>\n",
              "      <td>1985.0</td>\n",
              "      <td>Commando</td>\n",
              "      <td>3</td>\n",
              "    </tr>\n",
              "    <tr>\n",
              "      <th>473830</th>\n",
              "      <td>885635</td>\n",
              "      <td>4</td>\n",
              "      <td>2005</td>\n",
              "      <td>3715</td>\n",
              "      <td>War</td>\n",
              "      <td>1985.0</td>\n",
              "      <td>Commando</td>\n",
              "      <td>3</td>\n",
              "    </tr>\n",
              "  </tbody>\n",
              "</table>\n",
              "</div>"
            ],
            "text/plain": [
              "         UserId  Rating  YearWatched  MovieId Genre  YearReleased      Name  \\\n",
              "473622    41412       2         2001     3715   War        1985.0  Commando   \n",
              "473833   264160       3         2005     3715   War        1985.0  Commando   \n",
              "473832  1324577       2         2005     3715   War        1985.0  Commando   \n",
              "473831  1569850       3         2005     3715   War        1985.0  Commando   \n",
              "473830   885635       4         2005     3715   War        1985.0  Commando   \n",
              "\n",
              "        Length  \n",
              "473622       3  \n",
              "473833       3  \n",
              "473832       3  \n",
              "473831       3  \n",
              "473830       3  "
            ]
          },
          "metadata": {
            "tags": []
          },
          "execution_count": 73
        }
      ]
    },
    {
      "metadata": {
        "id": "P1QtAwXDitWz",
        "colab_type": "code",
        "colab": {
          "base_uri": "https://localhost:8080/",
          "height": 1911
        },
        "outputId": "4f7bf75e-6d0e-4f5e-ab66-d128e2f634e4"
      },
      "cell_type": "code",
      "source": [
        "infor_df = pd.DataFrame({'count' : test_file_df.groupby( [ \"MovieId\"] ).size()})\n",
        "infor_df['MeanRating'] = test_file_df.groupby( [ \"MovieId\"])['Rating'].mean()\n",
        "\n",
        "#print(infor_df.sort_values(by='count',ascending=False))\n",
        "infor_df\n",
        "\n"
      ],
      "execution_count": 74,
      "outputs": [
        {
          "output_type": "execute_result",
          "data": {
            "text/html": [
              "<div>\n",
              "<style scoped>\n",
              "    .dataframe tbody tr th:only-of-type {\n",
              "        vertical-align: middle;\n",
              "    }\n",
              "\n",
              "    .dataframe tbody tr th {\n",
              "        vertical-align: top;\n",
              "    }\n",
              "\n",
              "    .dataframe thead th {\n",
              "        text-align: right;\n",
              "    }\n",
              "</style>\n",
              "<table border=\"1\" class=\"dataframe\">\n",
              "  <thead>\n",
              "    <tr style=\"text-align: right;\">\n",
              "      <th></th>\n",
              "      <th>count</th>\n",
              "      <th>MeanRating</th>\n",
              "    </tr>\n",
              "    <tr>\n",
              "      <th>MovieId</th>\n",
              "      <th></th>\n",
              "      <th></th>\n",
              "    </tr>\n",
              "  </thead>\n",
              "  <tbody>\n",
              "    <tr>\n",
              "      <th>1</th>\n",
              "      <td>16</td>\n",
              "      <td>3.687500</td>\n",
              "    </tr>\n",
              "    <tr>\n",
              "      <th>3</th>\n",
              "      <td>60</td>\n",
              "      <td>3.683333</td>\n",
              "    </tr>\n",
              "    <tr>\n",
              "      <th>6</th>\n",
              "      <td>31</td>\n",
              "      <td>2.967742</td>\n",
              "    </tr>\n",
              "    <tr>\n",
              "      <th>7</th>\n",
              "      <td>3</td>\n",
              "      <td>1.666667</td>\n",
              "    </tr>\n",
              "    <tr>\n",
              "      <th>10</th>\n",
              "      <td>7</td>\n",
              "      <td>3.285714</td>\n",
              "    </tr>\n",
              "    <tr>\n",
              "      <th>12</th>\n",
              "      <td>16</td>\n",
              "      <td>3.312500</td>\n",
              "    </tr>\n",
              "    <tr>\n",
              "      <th>15</th>\n",
              "      <td>9</td>\n",
              "      <td>3.444444</td>\n",
              "    </tr>\n",
              "    <tr>\n",
              "      <th>16</th>\n",
              "      <td>81</td>\n",
              "      <td>3.024691</td>\n",
              "    </tr>\n",
              "    <tr>\n",
              "      <th>17</th>\n",
              "      <td>213</td>\n",
              "      <td>2.943662</td>\n",
              "    </tr>\n",
              "    <tr>\n",
              "      <th>18</th>\n",
              "      <td>322</td>\n",
              "      <td>3.791925</td>\n",
              "    </tr>\n",
              "    <tr>\n",
              "      <th>20</th>\n",
              "      <td>3</td>\n",
              "      <td>2.666667</td>\n",
              "    </tr>\n",
              "    <tr>\n",
              "      <th>21</th>\n",
              "      <td>7</td>\n",
              "      <td>3.571429</td>\n",
              "    </tr>\n",
              "    <tr>\n",
              "      <th>22</th>\n",
              "      <td>6</td>\n",
              "      <td>2.166667</td>\n",
              "    </tr>\n",
              "    <tr>\n",
              "      <th>24</th>\n",
              "      <td>40</td>\n",
              "      <td>2.875000</td>\n",
              "    </tr>\n",
              "    <tr>\n",
              "      <th>26</th>\n",
              "      <td>176</td>\n",
              "      <td>2.909091</td>\n",
              "    </tr>\n",
              "    <tr>\n",
              "      <th>28</th>\n",
              "      <td>1193</td>\n",
              "      <td>3.829841</td>\n",
              "    </tr>\n",
              "    <tr>\n",
              "      <th>29</th>\n",
              "      <td>16</td>\n",
              "      <td>3.812500</td>\n",
              "    </tr>\n",
              "    <tr>\n",
              "      <th>30</th>\n",
              "      <td>3552</td>\n",
              "      <td>3.780124</td>\n",
              "    </tr>\n",
              "    <tr>\n",
              "      <th>36</th>\n",
              "      <td>28</td>\n",
              "      <td>2.857143</td>\n",
              "    </tr>\n",
              "    <tr>\n",
              "      <th>37</th>\n",
              "      <td>8</td>\n",
              "      <td>3.875000</td>\n",
              "    </tr>\n",
              "    <tr>\n",
              "      <th>39</th>\n",
              "      <td>23</td>\n",
              "      <td>2.304348</td>\n",
              "    </tr>\n",
              "    <tr>\n",
              "      <th>40</th>\n",
              "      <td>15</td>\n",
              "      <td>3.066667</td>\n",
              "    </tr>\n",
              "    <tr>\n",
              "      <th>42</th>\n",
              "      <td>4</td>\n",
              "      <td>2.250000</td>\n",
              "    </tr>\n",
              "    <tr>\n",
              "      <th>43</th>\n",
              "      <td>3</td>\n",
              "      <td>2.666667</td>\n",
              "    </tr>\n",
              "    <tr>\n",
              "      <th>46</th>\n",
              "      <td>197</td>\n",
              "      <td>3.786802</td>\n",
              "    </tr>\n",
              "    <tr>\n",
              "      <th>47</th>\n",
              "      <td>70</td>\n",
              "      <td>3.314286</td>\n",
              "    </tr>\n",
              "    <tr>\n",
              "      <th>48</th>\n",
              "      <td>108</td>\n",
              "      <td>3.666667</td>\n",
              "    </tr>\n",
              "    <tr>\n",
              "      <th>50</th>\n",
              "      <td>10</td>\n",
              "      <td>2.700000</td>\n",
              "    </tr>\n",
              "    <tr>\n",
              "      <th>52</th>\n",
              "      <td>154</td>\n",
              "      <td>3.759740</td>\n",
              "    </tr>\n",
              "    <tr>\n",
              "      <th>53</th>\n",
              "      <td>3</td>\n",
              "      <td>2.000000</td>\n",
              "    </tr>\n",
              "    <tr>\n",
              "      <th>...</th>\n",
              "      <td>...</td>\n",
              "      <td>...</td>\n",
              "    </tr>\n",
              "    <tr>\n",
              "      <th>4447</th>\n",
              "      <td>11</td>\n",
              "      <td>4.000000</td>\n",
              "    </tr>\n",
              "    <tr>\n",
              "      <th>4450</th>\n",
              "      <td>75</td>\n",
              "      <td>3.746667</td>\n",
              "    </tr>\n",
              "    <tr>\n",
              "      <th>4452</th>\n",
              "      <td>30</td>\n",
              "      <td>2.466667</td>\n",
              "    </tr>\n",
              "    <tr>\n",
              "      <th>4454</th>\n",
              "      <td>205</td>\n",
              "      <td>4.053659</td>\n",
              "    </tr>\n",
              "    <tr>\n",
              "      <th>4456</th>\n",
              "      <td>30</td>\n",
              "      <td>3.333333</td>\n",
              "    </tr>\n",
              "    <tr>\n",
              "      <th>4459</th>\n",
              "      <td>12</td>\n",
              "      <td>4.583333</td>\n",
              "    </tr>\n",
              "    <tr>\n",
              "      <th>4460</th>\n",
              "      <td>62</td>\n",
              "      <td>3.112903</td>\n",
              "    </tr>\n",
              "    <tr>\n",
              "      <th>4462</th>\n",
              "      <td>3</td>\n",
              "      <td>2.000000</td>\n",
              "    </tr>\n",
              "    <tr>\n",
              "      <th>4463</th>\n",
              "      <td>60</td>\n",
              "      <td>3.433333</td>\n",
              "    </tr>\n",
              "    <tr>\n",
              "      <th>4465</th>\n",
              "      <td>169</td>\n",
              "      <td>3.816568</td>\n",
              "    </tr>\n",
              "    <tr>\n",
              "      <th>4466</th>\n",
              "      <td>3</td>\n",
              "      <td>1.333333</td>\n",
              "    </tr>\n",
              "    <tr>\n",
              "      <th>4469</th>\n",
              "      <td>4</td>\n",
              "      <td>2.250000</td>\n",
              "    </tr>\n",
              "    <tr>\n",
              "      <th>4472</th>\n",
              "      <td>3034</td>\n",
              "      <td>3.689189</td>\n",
              "    </tr>\n",
              "    <tr>\n",
              "      <th>4473</th>\n",
              "      <td>16</td>\n",
              "      <td>2.750000</td>\n",
              "    </tr>\n",
              "    <tr>\n",
              "      <th>4474</th>\n",
              "      <td>127</td>\n",
              "      <td>3.062992</td>\n",
              "    </tr>\n",
              "    <tr>\n",
              "      <th>4477</th>\n",
              "      <td>8</td>\n",
              "      <td>3.500000</td>\n",
              "    </tr>\n",
              "    <tr>\n",
              "      <th>4478</th>\n",
              "      <td>77</td>\n",
              "      <td>3.766234</td>\n",
              "    </tr>\n",
              "    <tr>\n",
              "      <th>4479</th>\n",
              "      <td>717</td>\n",
              "      <td>3.750349</td>\n",
              "    </tr>\n",
              "    <tr>\n",
              "      <th>4482</th>\n",
              "      <td>49</td>\n",
              "      <td>2.836735</td>\n",
              "    </tr>\n",
              "    <tr>\n",
              "      <th>4483</th>\n",
              "      <td>31</td>\n",
              "      <td>3.290323</td>\n",
              "    </tr>\n",
              "    <tr>\n",
              "      <th>4487</th>\n",
              "      <td>4</td>\n",
              "      <td>1.750000</td>\n",
              "    </tr>\n",
              "    <tr>\n",
              "      <th>4488</th>\n",
              "      <td>995</td>\n",
              "      <td>3.505528</td>\n",
              "    </tr>\n",
              "    <tr>\n",
              "      <th>4489</th>\n",
              "      <td>42</td>\n",
              "      <td>3.404762</td>\n",
              "    </tr>\n",
              "    <tr>\n",
              "      <th>4490</th>\n",
              "      <td>308</td>\n",
              "      <td>3.146104</td>\n",
              "    </tr>\n",
              "    <tr>\n",
              "      <th>4491</th>\n",
              "      <td>14</td>\n",
              "      <td>2.785714</td>\n",
              "    </tr>\n",
              "    <tr>\n",
              "      <th>4492</th>\n",
              "      <td>281</td>\n",
              "      <td>2.647687</td>\n",
              "    </tr>\n",
              "    <tr>\n",
              "      <th>4493</th>\n",
              "      <td>191</td>\n",
              "      <td>3.240838</td>\n",
              "    </tr>\n",
              "    <tr>\n",
              "      <th>4496</th>\n",
              "      <td>286</td>\n",
              "      <td>3.709790</td>\n",
              "    </tr>\n",
              "    <tr>\n",
              "      <th>4497</th>\n",
              "      <td>21</td>\n",
              "      <td>2.476190</td>\n",
              "    </tr>\n",
              "    <tr>\n",
              "      <th>4499</th>\n",
              "      <td>13</td>\n",
              "      <td>2.384615</td>\n",
              "    </tr>\n",
              "  </tbody>\n",
              "</table>\n",
              "<p>2740 rows × 2 columns</p>\n",
              "</div>"
            ],
            "text/plain": [
              "         count  MeanRating\n",
              "MovieId                   \n",
              "1           16    3.687500\n",
              "3           60    3.683333\n",
              "6           31    2.967742\n",
              "7            3    1.666667\n",
              "10           7    3.285714\n",
              "12          16    3.312500\n",
              "15           9    3.444444\n",
              "16          81    3.024691\n",
              "17         213    2.943662\n",
              "18         322    3.791925\n",
              "20           3    2.666667\n",
              "21           7    3.571429\n",
              "22           6    2.166667\n",
              "24          40    2.875000\n",
              "26         176    2.909091\n",
              "28        1193    3.829841\n",
              "29          16    3.812500\n",
              "30        3552    3.780124\n",
              "36          28    2.857143\n",
              "37           8    3.875000\n",
              "39          23    2.304348\n",
              "40          15    3.066667\n",
              "42           4    2.250000\n",
              "43           3    2.666667\n",
              "46         197    3.786802\n",
              "47          70    3.314286\n",
              "48         108    3.666667\n",
              "50          10    2.700000\n",
              "52         154    3.759740\n",
              "53           3    2.000000\n",
              "...        ...         ...\n",
              "4447        11    4.000000\n",
              "4450        75    3.746667\n",
              "4452        30    2.466667\n",
              "4454       205    4.053659\n",
              "4456        30    3.333333\n",
              "4459        12    4.583333\n",
              "4460        62    3.112903\n",
              "4462         3    2.000000\n",
              "4463        60    3.433333\n",
              "4465       169    3.816568\n",
              "4466         3    1.333333\n",
              "4469         4    2.250000\n",
              "4472      3034    3.689189\n",
              "4473        16    2.750000\n",
              "4474       127    3.062992\n",
              "4477         8    3.500000\n",
              "4478        77    3.766234\n",
              "4479       717    3.750349\n",
              "4482        49    2.836735\n",
              "4483        31    3.290323\n",
              "4487         4    1.750000\n",
              "4488       995    3.505528\n",
              "4489        42    3.404762\n",
              "4490       308    3.146104\n",
              "4491        14    2.785714\n",
              "4492       281    2.647687\n",
              "4493       191    3.240838\n",
              "4496       286    3.709790\n",
              "4497        21    2.476190\n",
              "4499        13    2.384615\n",
              "\n",
              "[2740 rows x 2 columns]"
            ]
          },
          "metadata": {
            "tags": []
          },
          "execution_count": 74
        }
      ]
    },
    {
      "metadata": {
        "id": "96pzAOwnWMvn",
        "colab_type": "code",
        "colab": {}
      },
      "cell_type": "code",
      "source": [
        "#Mean Rating for the movie\n",
        "test_file_df['MeanRatingForMovie'] = test_file_df['MovieId'].map(infor_df['MeanRating'])"
      ],
      "execution_count": 0,
      "outputs": []
    },
    {
      "metadata": {
        "id": "BW5cLzKYs24E",
        "colab_type": "code",
        "colab": {
          "base_uri": "https://localhost:8080/",
          "height": 1882
        },
        "outputId": "fece2e3d-e6d8-4f9f-f894-b518f2643054"
      },
      "cell_type": "code",
      "source": [
        "test_file_df"
      ],
      "execution_count": 76,
      "outputs": [
        {
          "output_type": "execute_result",
          "data": {
            "text/html": [
              "<div>\n",
              "<style scoped>\n",
              "    .dataframe tbody tr th:only-of-type {\n",
              "        vertical-align: middle;\n",
              "    }\n",
              "\n",
              "    .dataframe tbody tr th {\n",
              "        vertical-align: top;\n",
              "    }\n",
              "\n",
              "    .dataframe thead th {\n",
              "        text-align: right;\n",
              "    }\n",
              "</style>\n",
              "<table border=\"1\" class=\"dataframe\">\n",
              "  <thead>\n",
              "    <tr style=\"text-align: right;\">\n",
              "      <th></th>\n",
              "      <th>UserId</th>\n",
              "      <th>Rating</th>\n",
              "      <th>YearWatched</th>\n",
              "      <th>MovieId</th>\n",
              "      <th>Genre</th>\n",
              "      <th>YearReleased</th>\n",
              "      <th>Name</th>\n",
              "      <th>Length</th>\n",
              "      <th>MeanRatingForMovie</th>\n",
              "    </tr>\n",
              "  </thead>\n",
              "  <tbody>\n",
              "    <tr>\n",
              "      <th>0</th>\n",
              "      <td>1488844</td>\n",
              "      <td>3</td>\n",
              "      <td>2005</td>\n",
              "      <td>1</td>\n",
              "      <td>Animation</td>\n",
              "      <td>2003.0</td>\n",
              "      <td>Dinosaur Planet</td>\n",
              "      <td>9</td>\n",
              "      <td>3.687500</td>\n",
              "    </tr>\n",
              "    <tr>\n",
              "      <th>1</th>\n",
              "      <td>822109</td>\n",
              "      <td>5</td>\n",
              "      <td>2005</td>\n",
              "      <td>1</td>\n",
              "      <td>Animation</td>\n",
              "      <td>2003.0</td>\n",
              "      <td>Dinosaur Planet</td>\n",
              "      <td>9</td>\n",
              "      <td>3.687500</td>\n",
              "    </tr>\n",
              "    <tr>\n",
              "      <th>2</th>\n",
              "      <td>885013</td>\n",
              "      <td>4</td>\n",
              "      <td>2005</td>\n",
              "      <td>1</td>\n",
              "      <td>Animation</td>\n",
              "      <td>2003.0</td>\n",
              "      <td>Dinosaur Planet</td>\n",
              "      <td>9</td>\n",
              "      <td>3.687500</td>\n",
              "    </tr>\n",
              "    <tr>\n",
              "      <th>3</th>\n",
              "      <td>30878</td>\n",
              "      <td>4</td>\n",
              "      <td>2005</td>\n",
              "      <td>1</td>\n",
              "      <td>Animation</td>\n",
              "      <td>2003.0</td>\n",
              "      <td>Dinosaur Planet</td>\n",
              "      <td>9</td>\n",
              "      <td>3.687500</td>\n",
              "    </tr>\n",
              "    <tr>\n",
              "      <th>4</th>\n",
              "      <td>823519</td>\n",
              "      <td>3</td>\n",
              "      <td>2004</td>\n",
              "      <td>1</td>\n",
              "      <td>Animation</td>\n",
              "      <td>2003.0</td>\n",
              "      <td>Dinosaur Planet</td>\n",
              "      <td>9</td>\n",
              "      <td>3.687500</td>\n",
              "    </tr>\n",
              "    <tr>\n",
              "      <th>5</th>\n",
              "      <td>893988</td>\n",
              "      <td>3</td>\n",
              "      <td>2005</td>\n",
              "      <td>1</td>\n",
              "      <td>Animation</td>\n",
              "      <td>2003.0</td>\n",
              "      <td>Dinosaur Planet</td>\n",
              "      <td>9</td>\n",
              "      <td>3.687500</td>\n",
              "    </tr>\n",
              "    <tr>\n",
              "      <th>6</th>\n",
              "      <td>124105</td>\n",
              "      <td>4</td>\n",
              "      <td>2004</td>\n",
              "      <td>1</td>\n",
              "      <td>Animation</td>\n",
              "      <td>2003.0</td>\n",
              "      <td>Dinosaur Planet</td>\n",
              "      <td>9</td>\n",
              "      <td>3.687500</td>\n",
              "    </tr>\n",
              "    <tr>\n",
              "      <th>7</th>\n",
              "      <td>1248029</td>\n",
              "      <td>3</td>\n",
              "      <td>2004</td>\n",
              "      <td>1</td>\n",
              "      <td>Animation</td>\n",
              "      <td>2003.0</td>\n",
              "      <td>Dinosaur Planet</td>\n",
              "      <td>9</td>\n",
              "      <td>3.687500</td>\n",
              "    </tr>\n",
              "    <tr>\n",
              "      <th>8</th>\n",
              "      <td>1842128</td>\n",
              "      <td>4</td>\n",
              "      <td>2004</td>\n",
              "      <td>1</td>\n",
              "      <td>Animation</td>\n",
              "      <td>2003.0</td>\n",
              "      <td>Dinosaur Planet</td>\n",
              "      <td>9</td>\n",
              "      <td>3.687500</td>\n",
              "    </tr>\n",
              "    <tr>\n",
              "      <th>9</th>\n",
              "      <td>2238063</td>\n",
              "      <td>3</td>\n",
              "      <td>2005</td>\n",
              "      <td>1</td>\n",
              "      <td>Animation</td>\n",
              "      <td>2003.0</td>\n",
              "      <td>Dinosaur Planet</td>\n",
              "      <td>9</td>\n",
              "      <td>3.687500</td>\n",
              "    </tr>\n",
              "    <tr>\n",
              "      <th>10</th>\n",
              "      <td>1503895</td>\n",
              "      <td>4</td>\n",
              "      <td>2005</td>\n",
              "      <td>1</td>\n",
              "      <td>Animation</td>\n",
              "      <td>2003.0</td>\n",
              "      <td>Dinosaur Planet</td>\n",
              "      <td>9</td>\n",
              "      <td>3.687500</td>\n",
              "    </tr>\n",
              "    <tr>\n",
              "      <th>11</th>\n",
              "      <td>2207774</td>\n",
              "      <td>5</td>\n",
              "      <td>2005</td>\n",
              "      <td>1</td>\n",
              "      <td>Animation</td>\n",
              "      <td>2003.0</td>\n",
              "      <td>Dinosaur Planet</td>\n",
              "      <td>9</td>\n",
              "      <td>3.687500</td>\n",
              "    </tr>\n",
              "    <tr>\n",
              "      <th>12</th>\n",
              "      <td>2590061</td>\n",
              "      <td>3</td>\n",
              "      <td>2004</td>\n",
              "      <td>1</td>\n",
              "      <td>Animation</td>\n",
              "      <td>2003.0</td>\n",
              "      <td>Dinosaur Planet</td>\n",
              "      <td>9</td>\n",
              "      <td>3.687500</td>\n",
              "    </tr>\n",
              "    <tr>\n",
              "      <th>13</th>\n",
              "      <td>2442</td>\n",
              "      <td>3</td>\n",
              "      <td>2004</td>\n",
              "      <td>1</td>\n",
              "      <td>Animation</td>\n",
              "      <td>2003.0</td>\n",
              "      <td>Dinosaur Planet</td>\n",
              "      <td>9</td>\n",
              "      <td>3.687500</td>\n",
              "    </tr>\n",
              "    <tr>\n",
              "      <th>14</th>\n",
              "      <td>543865</td>\n",
              "      <td>4</td>\n",
              "      <td>2004</td>\n",
              "      <td>1</td>\n",
              "      <td>Animation</td>\n",
              "      <td>2003.0</td>\n",
              "      <td>Dinosaur Planet</td>\n",
              "      <td>9</td>\n",
              "      <td>3.687500</td>\n",
              "    </tr>\n",
              "    <tr>\n",
              "      <th>15</th>\n",
              "      <td>1209119</td>\n",
              "      <td>4</td>\n",
              "      <td>2004</td>\n",
              "      <td>1</td>\n",
              "      <td>Animation</td>\n",
              "      <td>2003.0</td>\n",
              "      <td>Dinosaur Planet</td>\n",
              "      <td>9</td>\n",
              "      <td>3.687500</td>\n",
              "    </tr>\n",
              "    <tr>\n",
              "      <th>16</th>\n",
              "      <td>1025579</td>\n",
              "      <td>4</td>\n",
              "      <td>2003</td>\n",
              "      <td>3</td>\n",
              "      <td>Crime</td>\n",
              "      <td>1997.0</td>\n",
              "      <td>Character</td>\n",
              "      <td>5</td>\n",
              "      <td>3.683333</td>\n",
              "    </tr>\n",
              "    <tr>\n",
              "      <th>17</th>\n",
              "      <td>712664</td>\n",
              "      <td>5</td>\n",
              "      <td>2004</td>\n",
              "      <td>3</td>\n",
              "      <td>Crime</td>\n",
              "      <td>1997.0</td>\n",
              "      <td>Character</td>\n",
              "      <td>5</td>\n",
              "      <td>3.683333</td>\n",
              "    </tr>\n",
              "    <tr>\n",
              "      <th>18</th>\n",
              "      <td>1331154</td>\n",
              "      <td>4</td>\n",
              "      <td>2004</td>\n",
              "      <td>3</td>\n",
              "      <td>Crime</td>\n",
              "      <td>1997.0</td>\n",
              "      <td>Character</td>\n",
              "      <td>5</td>\n",
              "      <td>3.683333</td>\n",
              "    </tr>\n",
              "    <tr>\n",
              "      <th>19</th>\n",
              "      <td>2632461</td>\n",
              "      <td>3</td>\n",
              "      <td>2005</td>\n",
              "      <td>3</td>\n",
              "      <td>Crime</td>\n",
              "      <td>1997.0</td>\n",
              "      <td>Character</td>\n",
              "      <td>5</td>\n",
              "      <td>3.683333</td>\n",
              "    </tr>\n",
              "    <tr>\n",
              "      <th>20</th>\n",
              "      <td>44937</td>\n",
              "      <td>5</td>\n",
              "      <td>2004</td>\n",
              "      <td>3</td>\n",
              "      <td>Crime</td>\n",
              "      <td>1997.0</td>\n",
              "      <td>Character</td>\n",
              "      <td>5</td>\n",
              "      <td>3.683333</td>\n",
              "    </tr>\n",
              "    <tr>\n",
              "      <th>21</th>\n",
              "      <td>656399</td>\n",
              "      <td>4</td>\n",
              "      <td>2003</td>\n",
              "      <td>3</td>\n",
              "      <td>Crime</td>\n",
              "      <td>1997.0</td>\n",
              "      <td>Character</td>\n",
              "      <td>5</td>\n",
              "      <td>3.683333</td>\n",
              "    </tr>\n",
              "    <tr>\n",
              "      <th>22</th>\n",
              "      <td>439011</td>\n",
              "      <td>1</td>\n",
              "      <td>2004</td>\n",
              "      <td>3</td>\n",
              "      <td>Crime</td>\n",
              "      <td>1997.0</td>\n",
              "      <td>Character</td>\n",
              "      <td>5</td>\n",
              "      <td>3.683333</td>\n",
              "    </tr>\n",
              "    <tr>\n",
              "      <th>23</th>\n",
              "      <td>1436762</td>\n",
              "      <td>3</td>\n",
              "      <td>2003</td>\n",
              "      <td>3</td>\n",
              "      <td>Crime</td>\n",
              "      <td>1997.0</td>\n",
              "      <td>Character</td>\n",
              "      <td>5</td>\n",
              "      <td>3.683333</td>\n",
              "    </tr>\n",
              "    <tr>\n",
              "      <th>24</th>\n",
              "      <td>1644750</td>\n",
              "      <td>3</td>\n",
              "      <td>2003</td>\n",
              "      <td>3</td>\n",
              "      <td>Crime</td>\n",
              "      <td>1997.0</td>\n",
              "      <td>Character</td>\n",
              "      <td>5</td>\n",
              "      <td>3.683333</td>\n",
              "    </tr>\n",
              "    <tr>\n",
              "      <th>25</th>\n",
              "      <td>2031561</td>\n",
              "      <td>4</td>\n",
              "      <td>2004</td>\n",
              "      <td>3</td>\n",
              "      <td>Crime</td>\n",
              "      <td>1997.0</td>\n",
              "      <td>Character</td>\n",
              "      <td>5</td>\n",
              "      <td>3.683333</td>\n",
              "    </tr>\n",
              "    <tr>\n",
              "      <th>26</th>\n",
              "      <td>616720</td>\n",
              "      <td>4</td>\n",
              "      <td>2003</td>\n",
              "      <td>3</td>\n",
              "      <td>Crime</td>\n",
              "      <td>1997.0</td>\n",
              "      <td>Character</td>\n",
              "      <td>5</td>\n",
              "      <td>3.683333</td>\n",
              "    </tr>\n",
              "    <tr>\n",
              "      <th>27</th>\n",
              "      <td>2467008</td>\n",
              "      <td>4</td>\n",
              "      <td>2004</td>\n",
              "      <td>3</td>\n",
              "      <td>Crime</td>\n",
              "      <td>1997.0</td>\n",
              "      <td>Character</td>\n",
              "      <td>5</td>\n",
              "      <td>3.683333</td>\n",
              "    </tr>\n",
              "    <tr>\n",
              "      <th>28</th>\n",
              "      <td>975874</td>\n",
              "      <td>5</td>\n",
              "      <td>2004</td>\n",
              "      <td>3</td>\n",
              "      <td>Crime</td>\n",
              "      <td>1997.0</td>\n",
              "      <td>Character</td>\n",
              "      <td>5</td>\n",
              "      <td>3.683333</td>\n",
              "    </tr>\n",
              "    <tr>\n",
              "      <th>29</th>\n",
              "      <td>701730</td>\n",
              "      <td>2</td>\n",
              "      <td>2005</td>\n",
              "      <td>3</td>\n",
              "      <td>Crime</td>\n",
              "      <td>1997.0</td>\n",
              "      <td>Character</td>\n",
              "      <td>5</td>\n",
              "      <td>3.683333</td>\n",
              "    </tr>\n",
              "    <tr>\n",
              "      <th>...</th>\n",
              "      <td>...</td>\n",
              "      <td>...</td>\n",
              "      <td>...</td>\n",
              "      <td>...</td>\n",
              "      <td>...</td>\n",
              "      <td>...</td>\n",
              "      <td>...</td>\n",
              "      <td>...</td>\n",
              "      <td>...</td>\n",
              "    </tr>\n",
              "    <tr>\n",
              "      <th>585281</th>\n",
              "      <td>466862</td>\n",
              "      <td>3</td>\n",
              "      <td>2005</td>\n",
              "      <td>4497</td>\n",
              "      <td>Drama</td>\n",
              "      <td>1990.0</td>\n",
              "      <td>Texasville</td>\n",
              "      <td>5</td>\n",
              "      <td>2.476190</td>\n",
              "    </tr>\n",
              "    <tr>\n",
              "      <th>585282</th>\n",
              "      <td>326587</td>\n",
              "      <td>2</td>\n",
              "      <td>2005</td>\n",
              "      <td>4497</td>\n",
              "      <td>Drama</td>\n",
              "      <td>1990.0</td>\n",
              "      <td>Texasville</td>\n",
              "      <td>5</td>\n",
              "      <td>2.476190</td>\n",
              "    </tr>\n",
              "    <tr>\n",
              "      <th>585283</th>\n",
              "      <td>1483986</td>\n",
              "      <td>3</td>\n",
              "      <td>2004</td>\n",
              "      <td>4497</td>\n",
              "      <td>Drama</td>\n",
              "      <td>1990.0</td>\n",
              "      <td>Texasville</td>\n",
              "      <td>5</td>\n",
              "      <td>2.476190</td>\n",
              "    </tr>\n",
              "    <tr>\n",
              "      <th>585284</th>\n",
              "      <td>603277</td>\n",
              "      <td>3</td>\n",
              "      <td>2003</td>\n",
              "      <td>4497</td>\n",
              "      <td>Drama</td>\n",
              "      <td>1990.0</td>\n",
              "      <td>Texasville</td>\n",
              "      <td>5</td>\n",
              "      <td>2.476190</td>\n",
              "    </tr>\n",
              "    <tr>\n",
              "      <th>585285</th>\n",
              "      <td>2503887</td>\n",
              "      <td>4</td>\n",
              "      <td>2004</td>\n",
              "      <td>4497</td>\n",
              "      <td>Drama</td>\n",
              "      <td>1990.0</td>\n",
              "      <td>Texasville</td>\n",
              "      <td>5</td>\n",
              "      <td>2.476190</td>\n",
              "    </tr>\n",
              "    <tr>\n",
              "      <th>585286</th>\n",
              "      <td>2476197</td>\n",
              "      <td>3</td>\n",
              "      <td>2004</td>\n",
              "      <td>4497</td>\n",
              "      <td>Drama</td>\n",
              "      <td>1990.0</td>\n",
              "      <td>Texasville</td>\n",
              "      <td>5</td>\n",
              "      <td>2.476190</td>\n",
              "    </tr>\n",
              "    <tr>\n",
              "      <th>585287</th>\n",
              "      <td>397077</td>\n",
              "      <td>3</td>\n",
              "      <td>2004</td>\n",
              "      <td>4497</td>\n",
              "      <td>Drama</td>\n",
              "      <td>1990.0</td>\n",
              "      <td>Texasville</td>\n",
              "      <td>5</td>\n",
              "      <td>2.476190</td>\n",
              "    </tr>\n",
              "    <tr>\n",
              "      <th>585288</th>\n",
              "      <td>1986426</td>\n",
              "      <td>2</td>\n",
              "      <td>2005</td>\n",
              "      <td>4497</td>\n",
              "      <td>Drama</td>\n",
              "      <td>1990.0</td>\n",
              "      <td>Texasville</td>\n",
              "      <td>5</td>\n",
              "      <td>2.476190</td>\n",
              "    </tr>\n",
              "    <tr>\n",
              "      <th>585289</th>\n",
              "      <td>1977959</td>\n",
              "      <td>3</td>\n",
              "      <td>2002</td>\n",
              "      <td>4497</td>\n",
              "      <td>Drama</td>\n",
              "      <td>1990.0</td>\n",
              "      <td>Texasville</td>\n",
              "      <td>5</td>\n",
              "      <td>2.476190</td>\n",
              "    </tr>\n",
              "    <tr>\n",
              "      <th>585290</th>\n",
              "      <td>2173816</td>\n",
              "      <td>1</td>\n",
              "      <td>2003</td>\n",
              "      <td>4497</td>\n",
              "      <td>Drama</td>\n",
              "      <td>1990.0</td>\n",
              "      <td>Texasville</td>\n",
              "      <td>5</td>\n",
              "      <td>2.476190</td>\n",
              "    </tr>\n",
              "    <tr>\n",
              "      <th>585291</th>\n",
              "      <td>1048253</td>\n",
              "      <td>1</td>\n",
              "      <td>2003</td>\n",
              "      <td>4497</td>\n",
              "      <td>Drama</td>\n",
              "      <td>1990.0</td>\n",
              "      <td>Texasville</td>\n",
              "      <td>5</td>\n",
              "      <td>2.476190</td>\n",
              "    </tr>\n",
              "    <tr>\n",
              "      <th>585292</th>\n",
              "      <td>1984086</td>\n",
              "      <td>4</td>\n",
              "      <td>2005</td>\n",
              "      <td>4497</td>\n",
              "      <td>Drama</td>\n",
              "      <td>1990.0</td>\n",
              "      <td>Texasville</td>\n",
              "      <td>5</td>\n",
              "      <td>2.476190</td>\n",
              "    </tr>\n",
              "    <tr>\n",
              "      <th>585293</th>\n",
              "      <td>2004175</td>\n",
              "      <td>3</td>\n",
              "      <td>2004</td>\n",
              "      <td>4497</td>\n",
              "      <td>Drama</td>\n",
              "      <td>1990.0</td>\n",
              "      <td>Texasville</td>\n",
              "      <td>5</td>\n",
              "      <td>2.476190</td>\n",
              "    </tr>\n",
              "    <tr>\n",
              "      <th>585294</th>\n",
              "      <td>2280025</td>\n",
              "      <td>1</td>\n",
              "      <td>2004</td>\n",
              "      <td>4497</td>\n",
              "      <td>Drama</td>\n",
              "      <td>1990.0</td>\n",
              "      <td>Texasville</td>\n",
              "      <td>5</td>\n",
              "      <td>2.476190</td>\n",
              "    </tr>\n",
              "    <tr>\n",
              "      <th>585295</th>\n",
              "      <td>1830211</td>\n",
              "      <td>2</td>\n",
              "      <td>2003</td>\n",
              "      <td>4497</td>\n",
              "      <td>Drama</td>\n",
              "      <td>1990.0</td>\n",
              "      <td>Texasville</td>\n",
              "      <td>5</td>\n",
              "      <td>2.476190</td>\n",
              "    </tr>\n",
              "    <tr>\n",
              "      <th>585296</th>\n",
              "      <td>825904</td>\n",
              "      <td>2</td>\n",
              "      <td>2005</td>\n",
              "      <td>4497</td>\n",
              "      <td>Drama</td>\n",
              "      <td>1990.0</td>\n",
              "      <td>Texasville</td>\n",
              "      <td>5</td>\n",
              "      <td>2.476190</td>\n",
              "    </tr>\n",
              "    <tr>\n",
              "      <th>585297</th>\n",
              "      <td>1998055</td>\n",
              "      <td>3</td>\n",
              "      <td>2004</td>\n",
              "      <td>4497</td>\n",
              "      <td>Drama</td>\n",
              "      <td>1990.0</td>\n",
              "      <td>Texasville</td>\n",
              "      <td>5</td>\n",
              "      <td>2.476190</td>\n",
              "    </tr>\n",
              "    <tr>\n",
              "      <th>585298</th>\n",
              "      <td>66358</td>\n",
              "      <td>3</td>\n",
              "      <td>2004</td>\n",
              "      <td>4499</td>\n",
              "      <td>Drama</td>\n",
              "      <td>2002.0</td>\n",
              "      <td>In My Skin</td>\n",
              "      <td>5</td>\n",
              "      <td>2.384615</td>\n",
              "    </tr>\n",
              "    <tr>\n",
              "      <th>585299</th>\n",
              "      <td>1916420</td>\n",
              "      <td>1</td>\n",
              "      <td>2004</td>\n",
              "      <td>4499</td>\n",
              "      <td>Drama</td>\n",
              "      <td>2002.0</td>\n",
              "      <td>In My Skin</td>\n",
              "      <td>5</td>\n",
              "      <td>2.384615</td>\n",
              "    </tr>\n",
              "    <tr>\n",
              "      <th>585300</th>\n",
              "      <td>327122</td>\n",
              "      <td>2</td>\n",
              "      <td>2005</td>\n",
              "      <td>4499</td>\n",
              "      <td>Drama</td>\n",
              "      <td>2002.0</td>\n",
              "      <td>In My Skin</td>\n",
              "      <td>5</td>\n",
              "      <td>2.384615</td>\n",
              "    </tr>\n",
              "    <tr>\n",
              "      <th>585301</th>\n",
              "      <td>769</td>\n",
              "      <td>3</td>\n",
              "      <td>2005</td>\n",
              "      <td>4499</td>\n",
              "      <td>Drama</td>\n",
              "      <td>2002.0</td>\n",
              "      <td>In My Skin</td>\n",
              "      <td>5</td>\n",
              "      <td>2.384615</td>\n",
              "    </tr>\n",
              "    <tr>\n",
              "      <th>585302</th>\n",
              "      <td>1684516</td>\n",
              "      <td>3</td>\n",
              "      <td>2005</td>\n",
              "      <td>4499</td>\n",
              "      <td>Drama</td>\n",
              "      <td>2002.0</td>\n",
              "      <td>In My Skin</td>\n",
              "      <td>5</td>\n",
              "      <td>2.384615</td>\n",
              "    </tr>\n",
              "    <tr>\n",
              "      <th>585303</th>\n",
              "      <td>567279</td>\n",
              "      <td>3</td>\n",
              "      <td>2004</td>\n",
              "      <td>4499</td>\n",
              "      <td>Drama</td>\n",
              "      <td>2002.0</td>\n",
              "      <td>In My Skin</td>\n",
              "      <td>5</td>\n",
              "      <td>2.384615</td>\n",
              "    </tr>\n",
              "    <tr>\n",
              "      <th>585304</th>\n",
              "      <td>2116703</td>\n",
              "      <td>1</td>\n",
              "      <td>2004</td>\n",
              "      <td>4499</td>\n",
              "      <td>Drama</td>\n",
              "      <td>2002.0</td>\n",
              "      <td>In My Skin</td>\n",
              "      <td>5</td>\n",
              "      <td>2.384615</td>\n",
              "    </tr>\n",
              "    <tr>\n",
              "      <th>585305</th>\n",
              "      <td>1722688</td>\n",
              "      <td>1</td>\n",
              "      <td>2005</td>\n",
              "      <td>4499</td>\n",
              "      <td>Drama</td>\n",
              "      <td>2002.0</td>\n",
              "      <td>In My Skin</td>\n",
              "      <td>5</td>\n",
              "      <td>2.384615</td>\n",
              "    </tr>\n",
              "    <tr>\n",
              "      <th>585306</th>\n",
              "      <td>415676</td>\n",
              "      <td>2</td>\n",
              "      <td>2005</td>\n",
              "      <td>4499</td>\n",
              "      <td>Drama</td>\n",
              "      <td>2002.0</td>\n",
              "      <td>In My Skin</td>\n",
              "      <td>5</td>\n",
              "      <td>2.384615</td>\n",
              "    </tr>\n",
              "    <tr>\n",
              "      <th>585307</th>\n",
              "      <td>2152580</td>\n",
              "      <td>4</td>\n",
              "      <td>2005</td>\n",
              "      <td>4499</td>\n",
              "      <td>Drama</td>\n",
              "      <td>2002.0</td>\n",
              "      <td>In My Skin</td>\n",
              "      <td>5</td>\n",
              "      <td>2.384615</td>\n",
              "    </tr>\n",
              "    <tr>\n",
              "      <th>585308</th>\n",
              "      <td>827096</td>\n",
              "      <td>3</td>\n",
              "      <td>2004</td>\n",
              "      <td>4499</td>\n",
              "      <td>Drama</td>\n",
              "      <td>2002.0</td>\n",
              "      <td>In My Skin</td>\n",
              "      <td>5</td>\n",
              "      <td>2.384615</td>\n",
              "    </tr>\n",
              "    <tr>\n",
              "      <th>585309</th>\n",
              "      <td>1724476</td>\n",
              "      <td>3</td>\n",
              "      <td>2004</td>\n",
              "      <td>4499</td>\n",
              "      <td>Drama</td>\n",
              "      <td>2002.0</td>\n",
              "      <td>In My Skin</td>\n",
              "      <td>5</td>\n",
              "      <td>2.384615</td>\n",
              "    </tr>\n",
              "    <tr>\n",
              "      <th>585310</th>\n",
              "      <td>1499504</td>\n",
              "      <td>2</td>\n",
              "      <td>2004</td>\n",
              "      <td>4499</td>\n",
              "      <td>Drama</td>\n",
              "      <td>2002.0</td>\n",
              "      <td>In My Skin</td>\n",
              "      <td>5</td>\n",
              "      <td>2.384615</td>\n",
              "    </tr>\n",
              "  </tbody>\n",
              "</table>\n",
              "<p>585311 rows × 9 columns</p>\n",
              "</div>"
            ],
            "text/plain": [
              "         UserId  Rating  YearWatched  MovieId      Genre  YearReleased  \\\n",
              "0       1488844       3         2005        1  Animation        2003.0   \n",
              "1        822109       5         2005        1  Animation        2003.0   \n",
              "2        885013       4         2005        1  Animation        2003.0   \n",
              "3         30878       4         2005        1  Animation        2003.0   \n",
              "4        823519       3         2004        1  Animation        2003.0   \n",
              "5        893988       3         2005        1  Animation        2003.0   \n",
              "6        124105       4         2004        1  Animation        2003.0   \n",
              "7       1248029       3         2004        1  Animation        2003.0   \n",
              "8       1842128       4         2004        1  Animation        2003.0   \n",
              "9       2238063       3         2005        1  Animation        2003.0   \n",
              "10      1503895       4         2005        1  Animation        2003.0   \n",
              "11      2207774       5         2005        1  Animation        2003.0   \n",
              "12      2590061       3         2004        1  Animation        2003.0   \n",
              "13         2442       3         2004        1  Animation        2003.0   \n",
              "14       543865       4         2004        1  Animation        2003.0   \n",
              "15      1209119       4         2004        1  Animation        2003.0   \n",
              "16      1025579       4         2003        3      Crime        1997.0   \n",
              "17       712664       5         2004        3      Crime        1997.0   \n",
              "18      1331154       4         2004        3      Crime        1997.0   \n",
              "19      2632461       3         2005        3      Crime        1997.0   \n",
              "20        44937       5         2004        3      Crime        1997.0   \n",
              "21       656399       4         2003        3      Crime        1997.0   \n",
              "22       439011       1         2004        3      Crime        1997.0   \n",
              "23      1436762       3         2003        3      Crime        1997.0   \n",
              "24      1644750       3         2003        3      Crime        1997.0   \n",
              "25      2031561       4         2004        3      Crime        1997.0   \n",
              "26       616720       4         2003        3      Crime        1997.0   \n",
              "27      2467008       4         2004        3      Crime        1997.0   \n",
              "28       975874       5         2004        3      Crime        1997.0   \n",
              "29       701730       2         2005        3      Crime        1997.0   \n",
              "...         ...     ...          ...      ...        ...           ...   \n",
              "585281   466862       3         2005     4497      Drama        1990.0   \n",
              "585282   326587       2         2005     4497      Drama        1990.0   \n",
              "585283  1483986       3         2004     4497      Drama        1990.0   \n",
              "585284   603277       3         2003     4497      Drama        1990.0   \n",
              "585285  2503887       4         2004     4497      Drama        1990.0   \n",
              "585286  2476197       3         2004     4497      Drama        1990.0   \n",
              "585287   397077       3         2004     4497      Drama        1990.0   \n",
              "585288  1986426       2         2005     4497      Drama        1990.0   \n",
              "585289  1977959       3         2002     4497      Drama        1990.0   \n",
              "585290  2173816       1         2003     4497      Drama        1990.0   \n",
              "585291  1048253       1         2003     4497      Drama        1990.0   \n",
              "585292  1984086       4         2005     4497      Drama        1990.0   \n",
              "585293  2004175       3         2004     4497      Drama        1990.0   \n",
              "585294  2280025       1         2004     4497      Drama        1990.0   \n",
              "585295  1830211       2         2003     4497      Drama        1990.0   \n",
              "585296   825904       2         2005     4497      Drama        1990.0   \n",
              "585297  1998055       3         2004     4497      Drama        1990.0   \n",
              "585298    66358       3         2004     4499      Drama        2002.0   \n",
              "585299  1916420       1         2004     4499      Drama        2002.0   \n",
              "585300   327122       2         2005     4499      Drama        2002.0   \n",
              "585301      769       3         2005     4499      Drama        2002.0   \n",
              "585302  1684516       3         2005     4499      Drama        2002.0   \n",
              "585303   567279       3         2004     4499      Drama        2002.0   \n",
              "585304  2116703       1         2004     4499      Drama        2002.0   \n",
              "585305  1722688       1         2005     4499      Drama        2002.0   \n",
              "585306   415676       2         2005     4499      Drama        2002.0   \n",
              "585307  2152580       4         2005     4499      Drama        2002.0   \n",
              "585308   827096       3         2004     4499      Drama        2002.0   \n",
              "585309  1724476       3         2004     4499      Drama        2002.0   \n",
              "585310  1499504       2         2004     4499      Drama        2002.0   \n",
              "\n",
              "                   Name  Length  MeanRatingForMovie  \n",
              "0       Dinosaur Planet       9            3.687500  \n",
              "1       Dinosaur Planet       9            3.687500  \n",
              "2       Dinosaur Planet       9            3.687500  \n",
              "3       Dinosaur Planet       9            3.687500  \n",
              "4       Dinosaur Planet       9            3.687500  \n",
              "5       Dinosaur Planet       9            3.687500  \n",
              "6       Dinosaur Planet       9            3.687500  \n",
              "7       Dinosaur Planet       9            3.687500  \n",
              "8       Dinosaur Planet       9            3.687500  \n",
              "9       Dinosaur Planet       9            3.687500  \n",
              "10      Dinosaur Planet       9            3.687500  \n",
              "11      Dinosaur Planet       9            3.687500  \n",
              "12      Dinosaur Planet       9            3.687500  \n",
              "13      Dinosaur Planet       9            3.687500  \n",
              "14      Dinosaur Planet       9            3.687500  \n",
              "15      Dinosaur Planet       9            3.687500  \n",
              "16            Character       5            3.683333  \n",
              "17            Character       5            3.683333  \n",
              "18            Character       5            3.683333  \n",
              "19            Character       5            3.683333  \n",
              "20            Character       5            3.683333  \n",
              "21            Character       5            3.683333  \n",
              "22            Character       5            3.683333  \n",
              "23            Character       5            3.683333  \n",
              "24            Character       5            3.683333  \n",
              "25            Character       5            3.683333  \n",
              "26            Character       5            3.683333  \n",
              "27            Character       5            3.683333  \n",
              "28            Character       5            3.683333  \n",
              "29            Character       5            3.683333  \n",
              "...                 ...     ...                 ...  \n",
              "585281       Texasville       5            2.476190  \n",
              "585282       Texasville       5            2.476190  \n",
              "585283       Texasville       5            2.476190  \n",
              "585284       Texasville       5            2.476190  \n",
              "585285       Texasville       5            2.476190  \n",
              "585286       Texasville       5            2.476190  \n",
              "585287       Texasville       5            2.476190  \n",
              "585288       Texasville       5            2.476190  \n",
              "585289       Texasville       5            2.476190  \n",
              "585290       Texasville       5            2.476190  \n",
              "585291       Texasville       5            2.476190  \n",
              "585292       Texasville       5            2.476190  \n",
              "585293       Texasville       5            2.476190  \n",
              "585294       Texasville       5            2.476190  \n",
              "585295       Texasville       5            2.476190  \n",
              "585296       Texasville       5            2.476190  \n",
              "585297       Texasville       5            2.476190  \n",
              "585298       In My Skin       5            2.384615  \n",
              "585299       In My Skin       5            2.384615  \n",
              "585300       In My Skin       5            2.384615  \n",
              "585301       In My Skin       5            2.384615  \n",
              "585302       In My Skin       5            2.384615  \n",
              "585303       In My Skin       5            2.384615  \n",
              "585304       In My Skin       5            2.384615  \n",
              "585305       In My Skin       5            2.384615  \n",
              "585306       In My Skin       5            2.384615  \n",
              "585307       In My Skin       5            2.384615  \n",
              "585308       In My Skin       5            2.384615  \n",
              "585309       In My Skin       5            2.384615  \n",
              "585310       In My Skin       5            2.384615  \n",
              "\n",
              "[585311 rows x 9 columns]"
            ]
          },
          "metadata": {
            "tags": []
          },
          "execution_count": 76
        }
      ]
    },
    {
      "metadata": {
        "id": "CqqdGAhy8q0c",
        "colab_type": "code",
        "colab": {}
      },
      "cell_type": "code",
      "source": [
        "#To download the Panda Data Frame\n",
        "test_file_df.to_csv('test_file_df.csv',index=False)\n",
        "files.download('test_file_df.csv')"
      ],
      "execution_count": 0,
      "outputs": []
    },
    {
      "metadata": {
        "id": "4aW1cEUQpU7_",
        "colab_type": "code",
        "colab": {}
      },
      "cell_type": "code",
      "source": [
        ""
      ],
      "execution_count": 0,
      "outputs": []
    },
    {
      "metadata": {
        "id": "PBPgF7O1jUFC",
        "colab_type": "code",
        "colab": {}
      },
      "cell_type": "code",
      "source": [
        ""
      ],
      "execution_count": 0,
      "outputs": []
    },
    {
      "metadata": {
        "id": "B-9TgdfdqiT8",
        "colab_type": "code",
        "colab": {}
      },
      "cell_type": "code",
      "source": [
        ""
      ],
      "execution_count": 0,
      "outputs": []
    },
    {
      "metadata": {
        "id": "nR_wNZebGPl_",
        "colab_type": "text"
      },
      "cell_type": "markdown",
      "source": [
        "\n",
        "\n",
        "---\n",
        "\n"
      ]
    },
    {
      "metadata": {
        "id": "nM4AsBNy6dM9",
        "colab_type": "text"
      },
      "cell_type": "markdown",
      "source": [
        "---\n",
        " ** *Method*: To see the GPU usage**"
      ]
    },
    {
      "metadata": {
        "id": "KEGfc73g0Zb0",
        "colab_type": "code",
        "colab": {}
      },
      "cell_type": "code",
      "source": [
        "def checkGPU():\n",
        "  # memory footprint support libraries/code\n",
        "  !ln -sf /opt/bin/nvidia-smi /usr/bin/nvidia-smi\n",
        "  !pip install gputil\n",
        "  !pip install psutil\n",
        "  !pip install humanize\n",
        "  import psutil\n",
        "  import humanize\n",
        "  import os\n",
        "  import GPUtil as GPU\n",
        "  GPUs = GPU.getGPUs()\n",
        "  # XXX: only one GPU on Colab and isn’t guaranteed\n",
        "  gpu = GPUs[0]\n",
        "  process = psutil.Process(os.getpid())\n",
        "  print(\"Gen RAM Free: \" + humanize.naturalsize( psutil.virtual_memory().available ), \" I Proc size: \" + humanize.naturalsize( process.memory_info().rss))\n",
        "  print(\"GPU RAM Free: {0:.0f}MB | Used: {1:.0f}MB | Util {2:3.0f}% | Total {3:.0f}MB\".format(gpu.memoryFree, gpu.memoryUsed, gpu.memoryUtil*100, gpu.memoryTotal))\n",
        "  \n"
      ],
      "execution_count": 0,
      "outputs": []
    },
    {
      "metadata": {
        "id": "7x3m84Vo6eyl",
        "colab_type": "text"
      },
      "cell_type": "markdown",
      "source": [
        "---"
      ]
    },
    {
      "metadata": {
        "id": "CF668Mtx6hVz",
        "colab_type": "code",
        "colab": {
          "base_uri": "https://localhost:8080/",
          "height": 353
        },
        "outputId": "5a5fd377-cb1b-4a08-f79b-096c7a3b5a3e"
      },
      "cell_type": "code",
      "source": [
        "checkGPU()"
      ],
      "execution_count": 80,
      "outputs": [
        {
          "output_type": "stream",
          "text": [
            "Collecting gputil\n",
            "  Downloading https://files.pythonhosted.org/packages/45/99/837428d26b47ebd6b66d6e1b180e98ec4a557767a93a81a02ea9d6242611/GPUtil-1.3.0.tar.gz\n",
            "Requirement already satisfied: numpy in /usr/local/lib/python3.6/dist-packages (from gputil) (1.14.3)\n",
            "Building wheels for collected packages: gputil\n",
            "  Running setup.py bdist_wheel for gputil ... \u001b[?25l-\b \bdone\n",
            "\u001b[?25h  Stored in directory: /content/.cache/pip/wheels/17/0f/04/b79c006972335e35472c0b835ed52bfc0815258d409f560108\n",
            "Successfully built gputil\n",
            "Installing collected packages: gputil\n",
            "Successfully installed gputil-1.3.0\n",
            "Requirement already satisfied: psutil in /usr/local/lib/python3.6/dist-packages (5.4.5)\n",
            "Collecting humanize\n",
            "  Downloading https://files.pythonhosted.org/packages/8c/e0/e512e4ac6d091fc990bbe13f9e0378f34cf6eecd1c6c268c9e598dcf5bb9/humanize-0.5.1.tar.gz\n",
            "Building wheels for collected packages: humanize\n",
            "  Running setup.py bdist_wheel for humanize ... \u001b[?25l-\b \b\\\b \bdone\n",
            "\u001b[?25h  Stored in directory: /content/.cache/pip/wheels/69/86/6c/f8b8593bc273ec4b0c653d3827f7482bb2001a2781a73b7f44\n",
            "Successfully built humanize\n",
            "Installing collected packages: humanize\n",
            "Successfully installed humanize-0.5.1\n",
            "Gen RAM Free: 8.5 GB  I Proc size: 4.4 GB\n",
            "GPU RAM Free: 11439MB | Used: 0MB | Util   0% | Total 11439MB\n"
          ],
          "name": "stdout"
        }
      ]
    },
    {
      "metadata": {
        "id": "9DD1IQwVl776",
        "colab_type": "text"
      },
      "cell_type": "markdown",
      "source": [
        "\n",
        "\n",
        "---\n",
        "\n",
        "## **CODE GRAVEYARD**"
      ]
    },
    {
      "metadata": {
        "id": "wekTAtVMl9SC",
        "colab_type": "text"
      },
      "cell_type": "markdown",
      "source": [
        "\n",
        "\n",
        "---\n",
        "\n"
      ]
    },
    {
      "metadata": {
        "id": "WpeP4ACi_Wui",
        "colab_type": "code",
        "colab": {}
      },
      "cell_type": "code",
      "source": [
        "#This Method gives the Numpy shape error; reason unidentified\n",
        "\n",
        "# def do_sampling(list_to_iterate):\n",
        "#   flag=True\n",
        "#   #Limiter variable\n",
        "#   limiter = 100\n",
        "#   count = 0\n",
        "#   #variable to be returned\n",
        "#   refined_list = []\n",
        "#   key_to_search = 0\n",
        "#   movieId_to_search=''\n",
        "#   for ele in list_to_iterate:\n",
        "#     #If the element has a ':' then its a movie id\n",
        "#     if ele.find(':') != -1:\n",
        "#       count = 1\n",
        "#       #we will remove the ':' from the tuple\n",
        "#       #This is done as we can then successfully apply the pd.to_numeric method to drastically reduce the dataframe size\n",
        "#       movieId_to_search = ele.replace(':','')\n",
        "#       #We want only those movies which are present in the movie_Title_file\n",
        "      \n",
        "#       if movieId_to_search in key_movie_values:\n",
        "#         print('found')\n",
        "#         #If this movie is present, set flag as true\n",
        "#         flag = True\n",
        "#         refined_list.append(movieId_to_search)\n",
        "#       else:\n",
        "#         flag = False\n",
        "#     else:\n",
        "#       #If the flag is false(i.e. movie not found) or if the count more than the limit; SKIP the record\n",
        "#       if count > limiter or flag is False:\n",
        "#         continue\n",
        "#       #Add a comma separated value of the movieId to split and form a column later\n",
        "#       ele += ',' +str(movieId_to_search)\n",
        "      \n",
        "#       refined_list.append(ele)\n",
        "      \n",
        "#       count+=1\n",
        "#   return refined_list"
      ],
      "execution_count": 0,
      "outputs": []
    },
    {
      "metadata": {
        "id": "1S3P-_LKvX_J",
        "colab_type": "text"
      },
      "cell_type": "markdown",
      "source": [
        "\n",
        "\n",
        "---\n",
        "\n",
        "**BELOW 2 blocks have been deemed deprecated **"
      ]
    },
    {
      "metadata": {
        "id": "wodMLOJ71N8t",
        "colab_type": "text"
      },
      "cell_type": "markdown",
      "source": [
        "\n",
        "\n",
        "---\n",
        "\n"
      ]
    },
    {
      "metadata": {
        "id": "4BCjU0aIZR01",
        "colab_type": "code",
        "colab": {}
      },
      "cell_type": "code",
      "source": [
        "#Ultra fast method to get the indexes of the rows we need to drop; Reduces time from a minute to a second\n",
        "#For records which only had the movie id and nothing else, will have NaN for columns other than the first column\n",
        "#fancy_list = test_file_df[the_NaN_matrix['Rating'] == True].index.values"
      ],
      "execution_count": 0,
      "outputs": []
    },
    {
      "metadata": {
        "id": "cwCM-TtfArBp",
        "colab_type": "code",
        "colab": {}
      },
      "cell_type": "code",
      "source": [
        "#type(fancy_list[2])"
      ],
      "execution_count": 0,
      "outputs": []
    },
    {
      "metadata": {
        "id": "wfrIWbVNFPr_",
        "colab_type": "text"
      },
      "cell_type": "markdown",
      "source": [
        "---\n",
        "**This below block is deprecated, due to the faster and optimized ways.**"
      ]
    },
    {
      "metadata": {
        "id": "fNaA0ToZ8qjC",
        "colab_type": "code",
        "colab": {}
      },
      "cell_type": "code",
      "source": [
        "# #We will store the rows to drop in this\n",
        "# rows_to_drop = []\n",
        "# currentMovieId = 0\n",
        "# list_movieId = []\n",
        "\n",
        "\n",
        "# #Iterate over the dataframe to split it\n",
        "# for index, row in test_file_df.iterrows():\n",
        "#   if the_NaN_matrix.iloc[index,2]:\n",
        "#     #If entered it means that there is a colon on the row and it is a movie id\n",
        "#     #row gives the first character on that row\n",
        "#     #currentMovieId = row['UserId']\n",
        "#     rows_to_drop.append(index)\n",
        "#   else:\n",
        "#     list_movieId.append(currentMovieId)\n",
        "#     #print(\"Not\")\n",
        "#     #Assign the movie id to the consecutive rows\n",
        "#     #test_file_df.iloc[index,3] = currentMovieId\n",
        "\n",
        "# #Create a series object from the list\n",
        "# #MovieIdSeries = pd.Series(list_movieId)  "
      ],
      "execution_count": 0,
      "outputs": []
    },
    {
      "metadata": {
        "id": "hRGTQCNogdNu",
        "colab_type": "text"
      },
      "cell_type": "markdown",
      "source": [
        "\n",
        "\n",
        "---\n",
        "\n"
      ]
    },
    {
      "metadata": {
        "id": "9ejn_If9ZDCQ",
        "colab_type": "code",
        "colab": {}
      },
      "cell_type": "code",
      "source": [
        "#Drop the rows which had the movie Id and the columns to get a seamless dataframe\n",
        "#test_file_df.drop(test_file_df.index[fancy_list],inplace=True)\n"
      ],
      "execution_count": 0,
      "outputs": []
    },
    {
      "metadata": {
        "id": "bl4jexwJviN-",
        "colab_type": "text"
      },
      "cell_type": "markdown",
      "source": [
        "\n",
        "\n",
        "---\n",
        "\n"
      ]
    },
    {
      "metadata": {
        "id": "wPFakwQkvi3e",
        "colab_type": "text"
      },
      "cell_type": "markdown",
      "source": [
        "\n",
        "\n",
        "---\n",
        "\n"
      ]
    }
  ]
}